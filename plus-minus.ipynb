{
 "cells": [
  {
   "cell_type": "markdown",
   "id": "de09c0c0-63e1-42b6-b4f2-2c1c5df3ec1b",
   "metadata": {},
   "source": [
    "https://www.hackerrank.com/challenges/plus-minus"
   ]
  },
  {
   "cell_type": "code",
   "execution_count": 1,
   "id": "891930bd-89da-406f-9de3-7cba0a8d0876",
   "metadata": {},
   "outputs": [],
   "source": [
    "def plusMinus(arr):\n",
    "    if len(arr) == 0:\n",
    "        print(3 * \"0.000000\\n\")\n",
    "    else:\n",
    "        print(\"{:.6f}\".format(len([i for i in arr if i > 0]) / len(arr)))\n",
    "        print(\"{:.6f}\".format(len([i for i in arr if i < 0]) / len(arr)))\n",
    "        print(\"{:.6f}\".format(len([i for i in arr if i == 0]) / len(arr)))"
   ]
  },
  {
   "cell_type": "code",
   "execution_count": 2,
   "id": "0d729222-5857-4205-aac0-d5b66e8bc257",
   "metadata": {},
   "outputs": [
    {
     "name": "stdout",
     "output_type": "stream",
     "text": [
      "0.500000\n",
      "0.333333\n",
      "0.166667\n"
     ]
    }
   ],
   "source": [
    "arr = [-4, 3, -9, 0, 4, 1]\n",
    "plusMinus(arr)"
   ]
  },
  {
   "cell_type": "code",
   "execution_count": 3,
   "id": "aa060574-3a9c-40f1-83e0-d2d5a84d80ef",
   "metadata": {},
   "outputs": [
    {
     "name": "stdout",
     "output_type": "stream",
     "text": [
      "0.000000\n",
      "0.000000\n",
      "0.000000\n",
      "\n"
     ]
    }
   ],
   "source": [
    "arr = []\n",
    "plusMinus(arr)"
   ]
  },
  {
   "cell_type": "code",
   "execution_count": 4,
   "id": "4255c829-3118-487c-a39d-de256921d90f",
   "metadata": {},
   "outputs": [
    {
     "name": "stdout",
     "output_type": "stream",
     "text": [
      "0.375000\n",
      "0.375000\n",
      "0.250000\n"
     ]
    }
   ],
   "source": [
    "arr = [1, 2, 3, -1, -2, -3, 0, 0]\n",
    "plusMinus(arr)"
   ]
  }
 ],
 "metadata": {
  "kernelspec": {
   "display_name": "Python 3 (ipykernel)",
   "language": "python",
   "name": "python3"
  },
  "language_info": {
   "codemirror_mode": {
    "name": "ipython",
    "version": 3
   },
   "file_extension": ".py",
   "mimetype": "text/x-python",
   "name": "python",
   "nbconvert_exporter": "python",
   "pygments_lexer": "ipython3",
   "version": "3.9.6"
  }
 },
 "nbformat": 4,
 "nbformat_minor": 5
}
