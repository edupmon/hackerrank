{
 "cells": [
  {
   "cell_type": "markdown",
   "id": "77553d4b-95ff-4b9a-9240-6aac24df5a4f",
   "metadata": {},
   "source": [
    "https://www.hackerrank.com/challenges/solve-me-first"
   ]
  },
  {
   "cell_type": "code",
   "execution_count": 1,
   "id": "9ca06a20-3b17-42bd-9f5d-5341cf0841e4",
   "metadata": {},
   "outputs": [],
   "source": [
    "def solveMeFirst(a, b):\n",
    "    return a + b"
   ]
  },
  {
   "cell_type": "code",
   "execution_count": 2,
   "id": "2059c303-971e-4ae4-b424-0670a4b88f0d",
   "metadata": {},
   "outputs": [
    {
     "data": {
      "text/plain": [
       "5"
      ]
     },
     "execution_count": 2,
     "metadata": {},
     "output_type": "execute_result"
    }
   ],
   "source": [
    "solveMeFirst(2, 3)"
   ]
  }
 ],
 "metadata": {
  "kernelspec": {
   "display_name": "Python 3 (ipykernel)",
   "language": "python",
   "name": "python3"
  },
  "language_info": {
   "codemirror_mode": {
    "name": "ipython",
    "version": 3
   },
   "file_extension": ".py",
   "mimetype": "text/x-python",
   "name": "python",
   "nbconvert_exporter": "python",
   "pygments_lexer": "ipython3",
   "version": "3.9.6"
  }
 },
 "nbformat": 4,
 "nbformat_minor": 5
}
