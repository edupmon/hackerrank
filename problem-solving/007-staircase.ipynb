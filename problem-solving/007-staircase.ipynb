{
 "cells": [
  {
   "cell_type": "markdown",
   "id": "e01221a4-b88d-4842-8bd4-a022d93d5d98",
   "metadata": {},
   "source": [
    "https://www.hackerrank.com/challenges/staircase"
   ]
  },
  {
   "cell_type": "code",
   "execution_count": 2,
   "id": "c15f8903-0245-474e-bdd0-d04048a32d0d",
   "metadata": {},
   "outputs": [],
   "source": [
    "def staircase(n):\n",
    "    for i in range(1, n + 1):\n",
    "        print((i * '#').rjust(n))"
   ]
  },
  {
   "cell_type": "code",
   "execution_count": 3,
   "id": "dccf96bb-2366-490c-bdc4-27df78e5baad",
   "metadata": {},
   "outputs": [
    {
     "name": "stdout",
     "output_type": "stream",
     "text": [
      "     #\n",
      "    ##\n",
      "   ###\n",
      "  ####\n",
      " #####\n",
      "######\n"
     ]
    }
   ],
   "source": [
    "staircase(6)"
   ]
  }
 ],
 "metadata": {
  "kernelspec": {
   "display_name": "Python 3 (ipykernel)",
   "language": "python",
   "name": "python3"
  },
  "language_info": {
   "codemirror_mode": {
    "name": "ipython",
    "version": 3
   },
   "file_extension": ".py",
   "mimetype": "text/x-python",
   "name": "python",
   "nbconvert_exporter": "python",
   "pygments_lexer": "ipython3",
   "version": "3.9.6"
  }
 },
 "nbformat": 4,
 "nbformat_minor": 5
}
