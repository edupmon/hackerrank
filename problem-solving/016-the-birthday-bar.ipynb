{
 "cells": [
  {
   "cell_type": "markdown",
   "id": "60c72416-9244-44df-b208-91fc94e33d7d",
   "metadata": {},
   "source": [
    "https://www.hackerrank.com/challenges/the-birthday-bar"
   ]
  },
  {
   "cell_type": "code",
   "execution_count": 1,
   "id": "50fcabd8-9eed-40a9-a646-5a40d33d5be4",
   "metadata": {},
   "outputs": [],
   "source": [
    "def birthday(s, d, m):\n",
    "    ret_val = 0\n",
    "    for i in range(len(s) + 1 - m):\n",
    "        if sum(s[i : i + m]) == d:\n",
    "            ret_val += 1 \n",
    "    return ret_val"
   ]
  },
  {
   "cell_type": "code",
   "execution_count": 2,
   "id": "def060f9-933e-4e5b-8a5c-fde342da2426",
   "metadata": {},
   "outputs": [
    {
     "data": {
      "text/plain": [
       "2"
      ]
     },
     "execution_count": 2,
     "metadata": {},
     "output_type": "execute_result"
    }
   ],
   "source": [
    "# Expected Output: 2\n",
    "s = [2, 2, 1, 3, 2]\n",
    "d = 4\n",
    "m = 2\n",
    "\n",
    "birthday(s, d, m)"
   ]
  },
  {
   "cell_type": "code",
   "execution_count": 3,
   "id": "3ee5170f-088b-4b56-a607-15273eceac50",
   "metadata": {},
   "outputs": [
    {
     "data": {
      "text/plain": [
       "2"
      ]
     },
     "execution_count": 3,
     "metadata": {},
     "output_type": "execute_result"
    }
   ],
   "source": [
    "# Expected Output: 2\n",
    "s = [1, 2, 1, 3, 2]\n",
    "d = 3\n",
    "m = 2\n",
    "\n",
    "birthday(s, d, m)"
   ]
  },
  {
   "cell_type": "code",
   "execution_count": 4,
   "id": "e49af699-5f3e-40ab-a472-991184281e93",
   "metadata": {},
   "outputs": [
    {
     "data": {
      "text/plain": [
       "0"
      ]
     },
     "execution_count": 4,
     "metadata": {},
     "output_type": "execute_result"
    }
   ],
   "source": [
    "# Expected Output: 0\n",
    "s = [1, 1, 1, 1, 1, 1]\n",
    "d = 3\n",
    "m = 2\n",
    "\n",
    "birthday(s, d, m)"
   ]
  },
  {
   "cell_type": "code",
   "execution_count": 5,
   "id": "1e85b58b-a02e-4966-828c-34fe87aa496c",
   "metadata": {},
   "outputs": [
    {
     "data": {
      "text/plain": [
       "1"
      ]
     },
     "execution_count": 5,
     "metadata": {},
     "output_type": "execute_result"
    }
   ],
   "source": [
    "# Expected Output: 1\n",
    "s = [4]\n",
    "d = 4\n",
    "m = 1\n",
    "\n",
    "birthday(s, d, m)"
   ]
  },
  {
   "cell_type": "code",
   "execution_count": 6,
   "id": "d8223b28-5f03-4f05-8407-10ba55cef33c",
   "metadata": {},
   "outputs": [
    {
     "data": {
      "text/plain": [
       "3"
      ]
     },
     "execution_count": 6,
     "metadata": {},
     "output_type": "execute_result"
    }
   ],
   "source": [
    "# Expected Output: 3\n",
    "s = [2, 5, 1, 3, 4, 4, 3, 5, 1, 1, 2, 1, 4, 1, 3, 3, 4, 2, 1]\n",
    "d = 18\n",
    "m = 7\n",
    "\n",
    "birthday(s, d, m)"
   ]
  }
 ],
 "metadata": {
  "kernelspec": {
   "display_name": "Python 3 (ipykernel)",
   "language": "python",
   "name": "python3"
  },
  "language_info": {
   "codemirror_mode": {
    "name": "ipython",
    "version": 3
   },
   "file_extension": ".py",
   "mimetype": "text/x-python",
   "name": "python",
   "nbconvert_exporter": "python",
   "pygments_lexer": "ipython3",
   "version": "3.9.6"
  }
 },
 "nbformat": 4,
 "nbformat_minor": 5
}
