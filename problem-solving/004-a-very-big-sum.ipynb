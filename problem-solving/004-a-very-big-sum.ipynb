{
 "cells": [
  {
   "cell_type": "markdown",
   "id": "f5cdd11a-f3bd-4825-9571-a67e86f53484",
   "metadata": {},
   "source": [
    "https://www.hackerrank.com/challenges/a-very-big-sum"
   ]
  },
  {
   "cell_type": "code",
   "execution_count": 1,
   "id": "d6a5c320-d631-42f9-a7fd-5b41580cd7bd",
   "metadata": {},
   "outputs": [],
   "source": [
    "def aVeryBigSum(ar):\n",
    "    return sum(ar)"
   ]
  },
  {
   "cell_type": "code",
   "execution_count": 2,
   "id": "8ad39d95-22b6-4676-a2a7-c85e1d19951d",
   "metadata": {},
   "outputs": [
    {
     "data": {
      "text/plain": [
       "5000000015"
      ]
     },
     "execution_count": 2,
     "metadata": {},
     "output_type": "execute_result"
    }
   ],
   "source": [
    "aVeryBigSum([1000000001, 1000000002, 1000000003, 1000000004, 1000000005])"
   ]
  },
  {
   "cell_type": "code",
   "execution_count": 3,
   "id": "bebd23e6-e618-4288-9464-cb1f6bc5955e",
   "metadata": {},
   "outputs": [
    {
     "data": {
      "text/plain": [
       "50000000000"
      ]
     },
     "execution_count": 3,
     "metadata": {},
     "output_type": "execute_result"
    }
   ],
   "source": [
    "aVeryBigSum([10 ** 10, 10 ** 10, 10 ** 10, 10 ** 10, 10 ** 10])"
   ]
  }
 ],
 "metadata": {
  "kernelspec": {
   "display_name": "Python 3 (ipykernel)",
   "language": "python",
   "name": "python3"
  },
  "language_info": {
   "codemirror_mode": {
    "name": "ipython",
    "version": 3
   },
   "file_extension": ".py",
   "mimetype": "text/x-python",
   "name": "python",
   "nbconvert_exporter": "python",
   "pygments_lexer": "ipython3",
   "version": "3.9.6"
  }
 },
 "nbformat": 4,
 "nbformat_minor": 5
}
