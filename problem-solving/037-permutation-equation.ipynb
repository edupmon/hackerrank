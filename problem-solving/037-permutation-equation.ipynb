{
 "cells": [
  {
   "cell_type": "markdown",
   "id": "786c640b-7749-4a88-a764-b04072150dd1",
   "metadata": {},
   "source": [
    "https://www.hackerrank.com/challenges/permutation-equation"
   ]
  },
  {
   "cell_type": "code",
   "execution_count": 1,
   "id": "328aa6ce-9554-4961-acde-4c9aa24c0337",
   "metadata": {},
   "outputs": [],
   "source": [
    "\"\"\"For p = [5, 2, 1, 3, 4]\n",
    "\n",
    "    The array starts at 1\n",
    "\n",
    "    x = 1\n",
    "    Index of element 'x' is 3\n",
    "    The element at index 'x' is 4\n",
    "    y = 4\n",
    "\n",
    "    x = 2\n",
    "    Index of element 'x' is 2\n",
    "    The element at index 'x' is 2\n",
    "    y = 2\n",
    "\n",
    "    x = 3\n",
    "    Index of element 'x' is 4\n",
    "    The element at index 'x' is 5\n",
    "    y = 5\n",
    "\n",
    "    x = 4\n",
    "    Index of element 'x' is 5\n",
    "    The element at index 'x' is 1\n",
    "    y = 1\n",
    "\n",
    "    x = 5\n",
    "    Index of element 'x' is 1\n",
    "    The element at index 'x' is 3\n",
    "    y = 3\n",
    "\"\"\"\n",
    "def permutationEquation(p):\n",
    "    x = 1\n",
    "    y = []\n",
    "    for element in p:\n",
    "        y.append(p.index(p.index(x) + 1) + 1)\n",
    "        x += 1\n",
    "    return y"
   ]
  },
  {
   "cell_type": "code",
   "execution_count": 2,
   "id": "5dfdf079-a263-4c72-8d3d-a77cb60700b9",
   "metadata": {},
   "outputs": [
    {
     "data": {
      "text/plain": [
       "[4, 2, 5, 1, 3]"
      ]
     },
     "execution_count": 2,
     "metadata": {},
     "output_type": "execute_result"
    }
   ],
   "source": [
    "p = [5, 2, 1, 3, 4]\n",
    "permutationEquation(p)"
   ]
  },
  {
   "cell_type": "code",
   "execution_count": 3,
   "id": "58076067-1953-4370-8e92-7c7898f9e989",
   "metadata": {},
   "outputs": [
    {
     "data": {
      "text/plain": [
       "[2, 3, 1]"
      ]
     },
     "execution_count": 3,
     "metadata": {},
     "output_type": "execute_result"
    }
   ],
   "source": [
    "p = [2, 3, 1]\n",
    "permutationEquation(p)"
   ]
  },
  {
   "cell_type": "code",
   "execution_count": 4,
   "id": "bf5e217c-df1e-4374-9a17-0b49fa33698a",
   "metadata": {},
   "outputs": [
    {
     "data": {
      "text/plain": [
       "[1, 3, 5, 4, 2]"
      ]
     },
     "execution_count": 4,
     "metadata": {},
     "output_type": "execute_result"
    }
   ],
   "source": [
    "p = [4, 3, 5, 1, 2]\n",
    "permutationEquation(p)"
   ]
  }
 ],
 "metadata": {
  "kernelspec": {
   "display_name": "Python 3 (ipykernel)",
   "language": "python",
   "name": "python3"
  },
  "language_info": {
   "codemirror_mode": {
    "name": "ipython",
    "version": 3
   },
   "file_extension": ".py",
   "mimetype": "text/x-python",
   "name": "python",
   "nbconvert_exporter": "python",
   "pygments_lexer": "ipython3",
   "version": "3.9.6"
  }
 },
 "nbformat": 4,
 "nbformat_minor": 5
}
