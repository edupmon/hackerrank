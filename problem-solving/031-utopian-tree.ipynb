{
 "cells": [
  {
   "cell_type": "markdown",
   "id": "3748b51f-af0f-4b7f-a9d7-5fec21882f46",
   "metadata": {},
   "source": [
    "https://www.hackerrank.com/challenges/utopian-tree"
   ]
  },
  {
   "cell_type": "code",
   "execution_count": 1,
   "id": "1f71c741-33f0-4772-81b8-10fcebeee7cc",
   "metadata": {},
   "outputs": [],
   "source": [
    "def utopianTree(n):\n",
    "    ret_val = 1\n",
    "    for i in range(n):\n",
    "        if i % 2 == 0:\n",
    "            ret_val *= 2\n",
    "        else:\n",
    "            ret_val += 1\n",
    "    return ret_val"
   ]
  },
  {
   "cell_type": "code",
   "execution_count": 2,
   "id": "80ec3dce-a2bd-4471-9be1-6719bce32420",
   "metadata": {},
   "outputs": [
    {
     "data": {
      "text/plain": [
       "14"
      ]
     },
     "execution_count": 2,
     "metadata": {},
     "output_type": "execute_result"
    }
   ],
   "source": [
    "n = 5\n",
    "utopianTree(n)"
   ]
  }
 ],
 "metadata": {
  "kernelspec": {
   "display_name": "Python 3 (ipykernel)",
   "language": "python",
   "name": "python3"
  },
  "language_info": {
   "codemirror_mode": {
    "name": "ipython",
    "version": 3
   },
   "file_extension": ".py",
   "mimetype": "text/x-python",
   "name": "python",
   "nbconvert_exporter": "python",
   "pygments_lexer": "ipython3",
   "version": "3.9.6"
  }
 },
 "nbformat": 4,
 "nbformat_minor": 5
}
