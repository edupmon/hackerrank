{
 "cells": [
  {
   "cell_type": "markdown",
   "id": "88fb7197-7efe-4a7f-b556-09fad23168b9",
   "metadata": {},
   "source": [
    "https://www.hackerrank.com/challenges/breaking-best-and-worst-records"
   ]
  },
  {
   "cell_type": "code",
   "execution_count": 1,
   "id": "8db2c256-7d7d-47a9-a270-5d09f3cbdff0",
   "metadata": {},
   "outputs": [],
   "source": [
    "def breakingRecords(scores):\n",
    "    lows = []\n",
    "    highs = []\n",
    "    low_reference = scores[0]\n",
    "    high_reference = scores[0]\n",
    "\n",
    "    for score in scores[1:]:\n",
    "        if score > high_reference:\n",
    "            highs.append(score)\n",
    "            high_reference = score\n",
    "        elif score < low_reference:\n",
    "            lows.append(score)\n",
    "            low_reference = score\n",
    "\n",
    "    return len(set(highs)), len(set(lows))"
   ]
  },
  {
   "cell_type": "code",
   "execution_count": 2,
   "id": "2bf351b6-8f06-42df-adef-e9b0a7d12599",
   "metadata": {},
   "outputs": [
    {
     "data": {
      "text/plain": [
       "(2, 4)"
      ]
     },
     "execution_count": 2,
     "metadata": {},
     "output_type": "execute_result"
    }
   ],
   "source": [
    "scores = [10, 5, 20, 20, 4, 5, 2, 25, 1]\n",
    "\n",
    "breakingRecords(scores)"
   ]
  },
  {
   "cell_type": "code",
   "execution_count": 3,
   "id": "f9b6f4df-183c-47c2-9d96-fc6795fafeb0",
   "metadata": {},
   "outputs": [
    {
     "data": {
      "text/plain": [
       "(4, 0)"
      ]
     },
     "execution_count": 3,
     "metadata": {},
     "output_type": "execute_result"
    }
   ],
   "source": [
    "scores = [3, 4, 21, 36, 10, 28, 35, 5, 24, 42]\n",
    "\n",
    "breakingRecords(scores)"
   ]
  },
  {
   "cell_type": "code",
   "execution_count": 4,
   "id": "083bbec1-3017-45fa-b3ce-afad1f0fa53f",
   "metadata": {},
   "outputs": [
    {
     "data": {
      "text/plain": [
       "(5, 1)"
      ]
     },
     "execution_count": 4,
     "metadata": {},
     "output_type": "execute_result"
    }
   ],
   "source": [
    "scores = [17, 45, 41, 60, 17, 41, 76, 43, 51, 40,\n",
    "          89, 92, 34, 6, 64, 7, 37, 81, 32, 50]\n",
    "\n",
    "breakingRecords(scores)"
   ]
  },
  {
   "cell_type": "code",
   "execution_count": 5,
   "id": "898c1a96-8c65-44ae-b603-b9c10e486063",
   "metadata": {},
   "outputs": [
    {
     "data": {
      "text/plain": [
       "(0, 4)"
      ]
     },
     "execution_count": 5,
     "metadata": {},
     "output_type": "execute_result"
    }
   ],
   "source": [
    "scores = [100, 45, 41, 60, 17, 41, 45, 43, 100, 40,\n",
    "          89, 92, 34, 6, 64, 7, 37, 81, 32, 50]\n",
    "\n",
    "breakingRecords(scores)"
   ]
  }
 ],
 "metadata": {
  "kernelspec": {
   "display_name": "Python 3 (ipykernel)",
   "language": "python",
   "name": "python3"
  },
  "language_info": {
   "codemirror_mode": {
    "name": "ipython",
    "version": 3
   },
   "file_extension": ".py",
   "mimetype": "text/x-python",
   "name": "python",
   "nbconvert_exporter": "python",
   "pygments_lexer": "ipython3",
   "version": "3.9.6"
  }
 },
 "nbformat": 4,
 "nbformat_minor": 5
}
