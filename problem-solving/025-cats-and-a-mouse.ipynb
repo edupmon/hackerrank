{
 "cells": [
  {
   "cell_type": "markdown",
   "id": "d8d65d54-3ab7-4e07-8b32-097002317b55",
   "metadata": {},
   "source": [
    "https://www.hackerrank.com/challenges/cats-and-a-mouse"
   ]
  },
  {
   "cell_type": "code",
   "execution_count": 1,
   "id": "de6ff6c0-6400-469b-ba2f-6248c75ba862",
   "metadata": {},
   "outputs": [],
   "source": [
    "def catAndMouse(x, y, z):\n",
    "    cat_a = abs(z - x)\n",
    "    cat_b = abs(z - y)\n",
    "    \n",
    "    if cat_a == cat_b:\n",
    "        return \"Mouse C\"\n",
    "    elif cat_a < cat_b:\n",
    "        return \"Cat A\"\n",
    "    else:\n",
    "        return \"Cat B\""
   ]
  },
  {
   "cell_type": "code",
   "execution_count": 2,
   "id": "10728a04-9a9e-454b-aae7-8b2b6148867e",
   "metadata": {},
   "outputs": [
    {
     "data": {
      "text/plain": [
       "'Cat B'"
      ]
     },
     "execution_count": 2,
     "metadata": {},
     "output_type": "execute_result"
    }
   ],
   "source": [
    "x = 2 # Cat A\n",
    "y = 5 # Cat B\n",
    "z = 4 # Mouse C\n",
    "catAndMouse(x, y, z)"
   ]
  },
  {
   "cell_type": "code",
   "execution_count": 3,
   "id": "8a02fab9-3cd1-42de-9232-b3ba4683bb1e",
   "metadata": {},
   "outputs": [
    {
     "data": {
      "text/plain": [
       "'Cat B'"
      ]
     },
     "execution_count": 3,
     "metadata": {},
     "output_type": "execute_result"
    }
   ],
   "source": [
    "x = 1\n",
    "y = 2\n",
    "z = 3\n",
    "catAndMouse(x, y, z)"
   ]
  },
  {
   "cell_type": "code",
   "execution_count": 4,
   "id": "d6ff189b-3b1e-4bfa-bda1-9cb6e033132e",
   "metadata": {},
   "outputs": [
    {
     "data": {
      "text/plain": [
       "'Mouse C'"
      ]
     },
     "execution_count": 4,
     "metadata": {},
     "output_type": "execute_result"
    }
   ],
   "source": [
    "x = 1\n",
    "y = 3\n",
    "z = 2\n",
    "catAndMouse(x, y, z)"
   ]
  }
 ],
 "metadata": {
  "kernelspec": {
   "display_name": "Python 3 (ipykernel)",
   "language": "python",
   "name": "python3"
  },
  "language_info": {
   "codemirror_mode": {
    "name": "ipython",
    "version": 3
   },
   "file_extension": ".py",
   "mimetype": "text/x-python",
   "name": "python",
   "nbconvert_exporter": "python",
   "pygments_lexer": "ipython3",
   "version": "3.9.6"
  }
 },
 "nbformat": 4,
 "nbformat_minor": 5
}
