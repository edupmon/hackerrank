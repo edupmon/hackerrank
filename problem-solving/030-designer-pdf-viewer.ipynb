{
 "cells": [
  {
   "cell_type": "markdown",
   "id": "e66959d9-6220-45e5-a1d0-0af8ae05d40f",
   "metadata": {},
   "source": [
    "https://www.hackerrank.com/challenges/designer-pdf-viewer"
   ]
  },
  {
   "cell_type": "code",
   "execution_count": 1,
   "id": "aceefbc0-87fc-4b43-a347-db95f32c4dae",
   "metadata": {},
   "outputs": [],
   "source": [
    "def designerPdfViewer(h, word):\n",
    "    max_height = 0\n",
    "    chars = 'abcdefghijklmnopqrstuvwxyz'\n",
    "    for l in word:\n",
    "         max_height = h[chars.index(l)] \\\n",
    "                      if max_height < h[chars.index(l)] else max_height\n",
    "    return len(word) * max_height"
   ]
  },
  {
   "cell_type": "code",
   "execution_count": 2,
   "id": "10458dbc-f0b8-4bc7-93cb-ec8e811e1589",
   "metadata": {},
   "outputs": [
    {
     "data": {
      "text/plain": [
       "8"
      ]
     },
     "execution_count": 2,
     "metadata": {},
     "output_type": "execute_result"
    }
   ],
   "source": [
    "h = [1, 3, 1, 3, 1, 4, 1, 3, 2, 5, 5, 5, 5,\n",
    "     1, 1, 5, 5, 1, 5, 2, 5, 5, 5, 5, 5, 5]\n",
    "word = 'torn'\n",
    "designerPdfViewer(h, word)"
   ]
  },
  {
   "cell_type": "code",
   "execution_count": 3,
   "id": "f4eea384-472e-40fd-bb8a-66c5f08f71f9",
   "metadata": {},
   "outputs": [
    {
     "data": {
      "text/plain": [
       "9"
      ]
     },
     "execution_count": 3,
     "metadata": {},
     "output_type": "execute_result"
    }
   ],
   "source": [
    "h = [1, 3, 1, 3, 1, 4, 1, 3, 2, 5, 5, 5, 5,\n",
    "     5, 5, 5, 5, 5, 5, 5, 5, 5, 5, 5, 5, 5]\n",
    "word = 'abc'\n",
    "designerPdfViewer(h, word)"
   ]
  },
  {
   "cell_type": "code",
   "execution_count": 4,
   "id": "60732e64-3207-4aef-b0ef-b22d5f67cc2c",
   "metadata": {},
   "outputs": [
    {
     "data": {
      "text/plain": [
       "28"
      ]
     },
     "execution_count": 4,
     "metadata": {},
     "output_type": "execute_result"
    }
   ],
   "source": [
    "h = [1, 3, 1, 3, 1, 4, 1, 3, 2, 5, 5, 5, 5,\n",
    "     5, 5, 5, 5, 5, 5, 5, 5, 5, 5, 5, 5, 7]\n",
    "word = 'zaba'\n",
    "designerPdfViewer(h, word)"
   ]
  }
 ],
 "metadata": {
  "kernelspec": {
   "display_name": "Python 3 (ipykernel)",
   "language": "python",
   "name": "python3"
  },
  "language_info": {
   "codemirror_mode": {
    "name": "ipython",
    "version": 3
   },
   "file_extension": ".py",
   "mimetype": "text/x-python",
   "name": "python",
   "nbconvert_exporter": "python",
   "pygments_lexer": "ipython3",
   "version": "3.9.6"
  }
 },
 "nbformat": 4,
 "nbformat_minor": 5
}
