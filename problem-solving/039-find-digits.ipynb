{
 "cells": [
  {
   "cell_type": "markdown",
   "id": "fcbb7c20-a9b0-4ac9-b508-e2c5f3359b65",
   "metadata": {},
   "source": [
    "https://www.hackerrank.com/challenges/find-digits"
   ]
  },
  {
   "cell_type": "code",
   "execution_count": 1,
   "id": "0bfd3274-0cd6-48a2-9762-b5d7276f7688",
   "metadata": {},
   "outputs": [],
   "source": [
    "from collections import Counter"
   ]
  },
  {
   "cell_type": "code",
   "execution_count": 2,
   "id": "4fe270ce-10be-485a-95f4-18b8ff24e1b7",
   "metadata": {},
   "outputs": [],
   "source": [
    "def findDigits(n):\n",
    "    ret_val = 0\n",
    "    digits = Counter(str(n))\n",
    "\n",
    "    for d in digits:\n",
    "        if d != '0' and n % int(d) == 0:\n",
    "            ret_val += digits[d]\n",
    "\n",
    "    return ret_val"
   ]
  },
  {
   "cell_type": "code",
   "execution_count": 3,
   "id": "0a6b091d-5db1-48fb-a301-440959da201b",
   "metadata": {},
   "outputs": [
    {
     "data": {
      "text/plain": [
       "3"
      ]
     },
     "execution_count": 3,
     "metadata": {},
     "output_type": "execute_result"
    }
   ],
   "source": [
    "n = 124\n",
    "findDigits(n)"
   ]
  },
  {
   "cell_type": "code",
   "execution_count": 4,
   "id": "dd35aa20-9953-4628-b2ae-e4924477dd47",
   "metadata": {},
   "outputs": [
    {
     "data": {
      "text/plain": [
       "3"
      ]
     },
     "execution_count": 4,
     "metadata": {},
     "output_type": "execute_result"
    }
   ],
   "source": [
    "n = 111\n",
    "findDigits(n)"
   ]
  },
  {
   "cell_type": "code",
   "execution_count": 5,
   "id": "a57b9ae9-2098-4e8e-9475-c30345cf6b33",
   "metadata": {},
   "outputs": [
    {
     "data": {
      "text/plain": [
       "1"
      ]
     },
     "execution_count": 5,
     "metadata": {},
     "output_type": "execute_result"
    }
   ],
   "source": [
    "n = 10\n",
    "findDigits(n)"
   ]
  },
  {
   "cell_type": "code",
   "execution_count": 6,
   "id": "e4ef7d9e-1885-46c2-ad94-1ae53563dfc6",
   "metadata": {},
   "outputs": [
    {
     "data": {
      "text/plain": [
       "2"
      ]
     },
     "execution_count": 6,
     "metadata": {},
     "output_type": "execute_result"
    }
   ],
   "source": [
    "n = 12\n",
    "findDigits(n)"
   ]
  },
  {
   "cell_type": "code",
   "execution_count": 7,
   "id": "2794695d-b833-4073-a2eb-34254c3881c5",
   "metadata": {},
   "outputs": [
    {
     "data": {
      "text/plain": [
       "3"
      ]
     },
     "execution_count": 7,
     "metadata": {},
     "output_type": "execute_result"
    }
   ],
   "source": [
    "n = 1012\n",
    "findDigits(n)"
   ]
  }
 ],
 "metadata": {
  "kernelspec": {
   "display_name": "Python 3 (ipykernel)",
   "language": "python",
   "name": "python3"
  },
  "language_info": {
   "codemirror_mode": {
    "name": "ipython",
    "version": 3
   },
   "file_extension": ".py",
   "mimetype": "text/x-python",
   "name": "python",
   "nbconvert_exporter": "python",
   "pygments_lexer": "ipython3",
   "version": "3.9.6"
  }
 },
 "nbformat": 4,
 "nbformat_minor": 5
}
