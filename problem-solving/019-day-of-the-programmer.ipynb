{
 "cells": [
  {
   "cell_type": "markdown",
   "id": "f565d4ca-aa10-44fa-abb9-aaab40a537b8",
   "metadata": {},
   "source": [
    "https://www.hackerrank.com/challenges/day-of-the-programmer"
   ]
  },
  {
   "cell_type": "code",
   "execution_count": 1,
   "id": "c03a6cd6-426e-4e22-81fa-5ea4b9a2fb00",
   "metadata": {},
   "outputs": [],
   "source": [
    "from datetime import datetime, timedelta"
   ]
  },
  {
   "cell_type": "code",
   "execution_count": 2,
   "id": "c790d192-0417-4c5c-81fe-712a4fa27893",
   "metadata": {},
   "outputs": [],
   "source": [
    "def dayOfProgrammer(year):\n",
    "    if year < 1918 and year % 4 == 0 and \\\n",
    "       not (year % 400 == 0 or (year % 4 == 0 and year % 100 != 0)):\n",
    "        # leap year in julian calendar but not in gregorian calendar\n",
    "        ret_val = datetime(year, 1, 1) + timedelta(days = 254)\n",
    "    elif year == 1918:\n",
    "        # compensate for calendar change (julian to gregorian)\n",
    "        ret_val = datetime(year, 2, 14) + timedelta(days = 224)\n",
    "    else:\n",
    "        # standard gregorian calendar\n",
    "        ret_val = datetime(year, 1, 1) + timedelta(days = 255)\n",
    "\n",
    "    return ret_val.strftime('%d.%m.%Y')"
   ]
  },
  {
   "cell_type": "code",
   "execution_count": 3,
   "id": "c4d77c04-7840-4bff-acf8-e70c6d94183f",
   "metadata": {},
   "outputs": [
    {
     "data": {
      "text/plain": [
       "'12.09.1984'"
      ]
     },
     "execution_count": 3,
     "metadata": {},
     "output_type": "execute_result"
    }
   ],
   "source": [
    "# Expected Output: 12.09.1984\n",
    "dayOfProgrammer(1984)"
   ]
  },
  {
   "cell_type": "code",
   "execution_count": 4,
   "id": "16f795bb-11e3-4a80-a758-3a2a893f3c53",
   "metadata": {},
   "outputs": [
    {
     "data": {
      "text/plain": [
       "'13.09.2017'"
      ]
     },
     "execution_count": 4,
     "metadata": {},
     "output_type": "execute_result"
    }
   ],
   "source": [
    "# Expected Output: 13.09.2017\n",
    "dayOfProgrammer(2017)"
   ]
  },
  {
   "cell_type": "code",
   "execution_count": 5,
   "id": "5102e6f4-b75f-4756-b5d3-6c2c849aa821",
   "metadata": {},
   "outputs": [
    {
     "data": {
      "text/plain": [
       "'12.09.2016'"
      ]
     },
     "execution_count": 5,
     "metadata": {},
     "output_type": "execute_result"
    }
   ],
   "source": [
    "# Expected Output: 12.09.2016\n",
    "dayOfProgrammer(2016)"
   ]
  },
  {
   "cell_type": "code",
   "execution_count": 6,
   "id": "838e12d1-3596-46fc-9609-da3fcd9a4981",
   "metadata": {},
   "outputs": [
    {
     "data": {
      "text/plain": [
       "'12.09.1800'"
      ]
     },
     "execution_count": 6,
     "metadata": {},
     "output_type": "execute_result"
    }
   ],
   "source": [
    "# Expected Output: 12.09.1800\n",
    "dayOfProgrammer(1800)"
   ]
  },
  {
   "cell_type": "code",
   "execution_count": 7,
   "id": "5a87055a-826f-4f51-b705-94cc436ceac9",
   "metadata": {},
   "outputs": [
    {
     "data": {
      "text/plain": [
       "'12.09.1916'"
      ]
     },
     "execution_count": 7,
     "metadata": {},
     "output_type": "execute_result"
    }
   ],
   "source": [
    "# Expected Output: 12.09.1916\n",
    "dayOfProgrammer(1916)"
   ]
  },
  {
   "cell_type": "code",
   "execution_count": 8,
   "id": "b26845d5-18c4-4e21-99b1-4c97d99e57fa",
   "metadata": {},
   "outputs": [
    {
     "data": {
      "text/plain": [
       "'12.09.1836'"
      ]
     },
     "execution_count": 8,
     "metadata": {},
     "output_type": "execute_result"
    }
   ],
   "source": [
    "# Expected Output: 12.09.1836\n",
    "dayOfProgrammer(1836)"
   ]
  }
 ],
 "metadata": {
  "kernelspec": {
   "display_name": "Python 3 (ipykernel)",
   "language": "python",
   "name": "python3"
  },
  "language_info": {
   "codemirror_mode": {
    "name": "ipython",
    "version": 3
   },
   "file_extension": ".py",
   "mimetype": "text/x-python",
   "name": "python",
   "nbconvert_exporter": "python",
   "pygments_lexer": "ipython3",
   "version": "3.9.6"
  }
 },
 "nbformat": 4,
 "nbformat_minor": 5
}
