{
 "cells": [
  {
   "cell_type": "markdown",
   "id": "c8cba008-3612-446c-85b4-3d64386ad246",
   "metadata": {},
   "source": [
    "https://www.hackerrank.com/challenges/compare-the-triplets"
   ]
  },
  {
   "cell_type": "code",
   "execution_count": 1,
   "id": "7cfcaf98-5b4f-4949-ae3a-f388398a3806",
   "metadata": {},
   "outputs": [],
   "source": [
    "def compareTriplets(a, b):\n",
    "    ret_val = [0, 0]\n",
    "    for a, b in zip(a, b):\n",
    "        if a > b:\n",
    "            ret_val[0] += 1\n",
    "        elif b > a:\n",
    "            ret_val[1] += 1\n",
    "    return ret_val"
   ]
  },
  {
   "cell_type": "code",
   "execution_count": 2,
   "id": "7719972c-4d02-4cdd-a22b-33f4d4b14bcf",
   "metadata": {},
   "outputs": [
    {
     "data": {
      "text/plain": [
       "[1, 1]"
      ]
     },
     "execution_count": 2,
     "metadata": {},
     "output_type": "execute_result"
    }
   ],
   "source": [
    "compareTriplets([1, 2, 3], [3, 2, 1])"
   ]
  },
  {
   "cell_type": "code",
   "execution_count": 3,
   "id": "f508d27c-5204-4ae4-9474-e9355e2e81e1",
   "metadata": {},
   "outputs": [
    {
     "data": {
      "text/plain": [
       "[1, 1]"
      ]
     },
     "execution_count": 3,
     "metadata": {},
     "output_type": "execute_result"
    }
   ],
   "source": [
    "compareTriplets([5, 6, 7], [3, 6, 10])"
   ]
  },
  {
   "cell_type": "code",
   "execution_count": 4,
   "id": "9b9ffc8e-5a5c-4047-b811-53a692a61273",
   "metadata": {},
   "outputs": [
    {
     "data": {
      "text/plain": [
       "[2, 1]"
      ]
     },
     "execution_count": 4,
     "metadata": {},
     "output_type": "execute_result"
    }
   ],
   "source": [
    "compareTriplets([17, 28, 30], [99, 16, 18])"
   ]
  }
 ],
 "metadata": {
  "kernelspec": {
   "display_name": "Python 3 (ipykernel)",
   "language": "python",
   "name": "python3"
  },
  "language_info": {
   "codemirror_mode": {
    "name": "ipython",
    "version": 3
   },
   "file_extension": ".py",
   "mimetype": "text/x-python",
   "name": "python",
   "nbconvert_exporter": "python",
   "pygments_lexer": "ipython3",
   "version": "3.9.6"
  }
 },
 "nbformat": 4,
 "nbformat_minor": 5
}
