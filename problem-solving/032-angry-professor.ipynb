{
 "cells": [
  {
   "cell_type": "markdown",
   "id": "fbe5fa36-6f31-44d8-8f81-41e449a8eb41",
   "metadata": {},
   "source": [
    "https://www.hackerrank.com/challenges/angry-professor"
   ]
  },
  {
   "cell_type": "code",
   "execution_count": 1,
   "id": "88287ee7-a7ba-42a9-aee6-5f147d4baf37",
   "metadata": {},
   "outputs": [],
   "source": [
    "def angryProfessor(k, a):\n",
    "    return 'YES' if k > len([n for n in a if n <= 0]) else 'NO'"
   ]
  },
  {
   "cell_type": "code",
   "execution_count": 2,
   "id": "634b67eb-3f73-4448-85c3-ee0aa35d3120",
   "metadata": {},
   "outputs": [
    {
     "data": {
      "text/plain": [
       "'YES'"
      ]
     },
     "execution_count": 2,
     "metadata": {},
     "output_type": "execute_result"
    }
   ],
   "source": [
    "k = 3\n",
    "a = [-1, -3, 4, 2]\n",
    "angryProfessor(k, a)"
   ]
  },
  {
   "cell_type": "code",
   "execution_count": 3,
   "id": "5dca08d0-5bce-44a1-b794-425a30cb2b60",
   "metadata": {},
   "outputs": [
    {
     "data": {
      "text/plain": [
       "'NO'"
      ]
     },
     "execution_count": 3,
     "metadata": {},
     "output_type": "execute_result"
    }
   ],
   "source": [
    "k = 2\n",
    "a = [0, -1, 2, 1]\n",
    "angryProfessor(k, a)"
   ]
  }
 ],
 "metadata": {
  "kernelspec": {
   "display_name": "Python 3 (ipykernel)",
   "language": "python",
   "name": "python3"
  },
  "language_info": {
   "codemirror_mode": {
    "name": "ipython",
    "version": 3
   },
   "file_extension": ".py",
   "mimetype": "text/x-python",
   "name": "python",
   "nbconvert_exporter": "python",
   "pygments_lexer": "ipython3",
   "version": "3.9.6"
  }
 },
 "nbformat": 4,
 "nbformat_minor": 5
}
