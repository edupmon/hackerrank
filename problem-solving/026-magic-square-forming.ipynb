{
 "cells": [
  {
   "cell_type": "markdown",
   "id": "e36b70ce-3ac4-4889-83f5-eff9559d4c07",
   "metadata": {},
   "source": [
    "https://www.hackerrank.com/challenges/magic-square-forming"
   ]
  },
  {
   "cell_type": "code",
   "execution_count": 1,
   "id": "b4227877-1e2f-4838-a90c-446361a1b853",
   "metadata": {},
   "outputs": [],
   "source": [
    "def formingMagicSquare(s):\n",
    "    # all possible magic squares\n",
    "    magic_squares = [[[2, 7, 6], [9, 5, 1], [4, 3, 8]],\n",
    "                     [[2, 9, 4], [7, 5, 3], [6, 1, 8]],\n",
    "                     [[4, 3, 8], [9, 5, 1], [2, 7, 6]],\n",
    "                     [[4, 9, 2], [3, 5, 7], [8, 1, 6]],\n",
    "                     [[6, 1, 8], [7, 5, 3], [2, 9, 4]],\n",
    "                     [[6, 7, 2], [1, 5, 9], [8, 3, 4]],\n",
    "                     [[8, 1, 6], [3, 5, 7], [4, 9, 2]],\n",
    "                     [[8, 3, 4], [1, 5, 9], [6, 7, 2]]]\n",
    "\n",
    "    # change cost between s and all possible magic squares\n",
    "    costs = []\n",
    "    for ms in magic_squares:\n",
    "        costs.append(abs(ms[0][0] - s[0][0]) + abs(ms[0][1] - s[0][1]) \\\n",
    "                     + abs(ms[0][2] - s[0][2]) + abs(ms[1][0] - s[1][0]) \\\n",
    "                     + abs(ms[1][1] - s[1][1]) + abs(ms[1][2] - s[1][2]) \\\n",
    "                     + abs(ms[2][0] - s[2][0]) + abs(ms[2][1] - s[2][1]) \\\n",
    "                     + abs(ms[2][2] - s[2][2]))\n",
    "\n",
    "    return min(costs)"
   ]
  },
  {
   "cell_type": "code",
   "execution_count": 2,
   "id": "2eac02f8-039b-4a9c-a33b-67a5dd1bea59",
   "metadata": {},
   "outputs": [
    {
     "data": {
      "text/plain": [
       "1"
      ]
     },
     "execution_count": 2,
     "metadata": {},
     "output_type": "execute_result"
    }
   ],
   "source": [
    "s = [[4, 9, 2], [3, 5, 7], [8, 1, 5]]\n",
    "formingMagicSquare(s)"
   ]
  },
  {
   "cell_type": "code",
   "execution_count": 3,
   "id": "7bcb9916-6de3-454e-b59c-3729bf60dded",
   "metadata": {},
   "outputs": [
    {
     "data": {
      "text/plain": [
       "4"
      ]
     },
     "execution_count": 3,
     "metadata": {},
     "output_type": "execute_result"
    }
   ],
   "source": [
    "s = [[4, 8, 2], [4, 5, 7], [6, 1, 6]]\n",
    "formingMagicSquare(s)"
   ]
  },
  {
   "cell_type": "markdown",
   "id": "fe5bc8cc-659b-4961-826e-0acd8de7408b",
   "metadata": {},
   "source": [
    "Defining all possible magic squares\n",
    "(ran this once to find all possible magic squares)"
   ]
  },
  {
   "cell_type": "code",
   "execution_count": 4,
   "id": "cd288c5d-5038-4dee-9251-2b7c8bf429b5",
   "metadata": {},
   "outputs": [],
   "source": [
    "all_combinations = [[x, y, z] for x in range(1,10)\n",
    "                              for y in range(1,10)\n",
    "                              for z in range(1,10)\n",
    "                              if x != y and x != z and y != z]"
   ]
  },
  {
   "cell_type": "code",
   "execution_count": 5,
   "id": "aae51a81-d426-4cc8-a34c-b83f9885886f",
   "metadata": {},
   "outputs": [],
   "source": [
    "magic_squares = [[x, y, z] for x in all_combinations\n",
    "                           for y in all_combinations\n",
    "                           for z in all_combinations\n",
    "                           if x != y and x != z and y != z\n",
    "                              and sum(x) + sum(y) + sum(z) == 45\n",
    "                              and x[0] + y[0] + z[0] == 15\n",
    "                              and x[1] + y[1] + z[1] == 15\n",
    "                              and x[2] + y[2] + z[2] == 15\n",
    "                              and x[0] + x[1] + x[2] == 15\n",
    "                              and y[0] + y[1] + y[2] == 15\n",
    "                              and z[0] + z[1] + z[2] == 15\n",
    "                              and x[0] + y[1] + z[2] == 15\n",
    "                              and z[0] + y[1] + x[2] == 15\n",
    "                              and (x + y + z).count(1) == 1\n",
    "                              and (x + y + z).count(2) == 1\n",
    "                              and (x + y + z).count(3) == 1\n",
    "                              and (x + y + z).count(4) == 1\n",
    "                              and (x + y + z).count(5) == 1\n",
    "                              and (x + y + z).count(6) == 1\n",
    "                              and (x + y + z).count(7) == 1\n",
    "                              and (x + y + z).count(8) == 1\n",
    "                              and (x + y + z).count(9) == 1]"
   ]
  },
  {
   "cell_type": "code",
   "execution_count": 6,
   "id": "f47c2613-70db-4a68-95d8-081eb70e61cf",
   "metadata": {},
   "outputs": [
    {
     "data": {
      "text/plain": [
       "[[[2, 7, 6], [9, 5, 1], [4, 3, 8]],\n",
       " [[2, 9, 4], [7, 5, 3], [6, 1, 8]],\n",
       " [[4, 3, 8], [9, 5, 1], [2, 7, 6]],\n",
       " [[4, 9, 2], [3, 5, 7], [8, 1, 6]],\n",
       " [[6, 1, 8], [7, 5, 3], [2, 9, 4]],\n",
       " [[6, 7, 2], [1, 5, 9], [8, 3, 4]],\n",
       " [[8, 1, 6], [3, 5, 7], [4, 9, 2]],\n",
       " [[8, 3, 4], [1, 5, 9], [6, 7, 2]]]"
      ]
     },
     "execution_count": 6,
     "metadata": {},
     "output_type": "execute_result"
    }
   ],
   "source": [
    "magic_squares"
   ]
  }
 ],
 "metadata": {
  "kernelspec": {
   "display_name": "Python 3 (ipykernel)",
   "language": "python",
   "name": "python3"
  },
  "language_info": {
   "codemirror_mode": {
    "name": "ipython",
    "version": 3
   },
   "file_extension": ".py",
   "mimetype": "text/x-python",
   "name": "python",
   "nbconvert_exporter": "python",
   "pygments_lexer": "ipython3",
   "version": "3.9.6"
  }
 },
 "nbformat": 4,
 "nbformat_minor": 5
}
