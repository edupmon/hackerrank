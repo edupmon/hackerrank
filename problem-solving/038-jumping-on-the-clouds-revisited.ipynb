{
 "cells": [
  {
   "cell_type": "markdown",
   "id": "58737c00-d318-4038-9100-e8ecc043c38c",
   "metadata": {},
   "source": [
    "https://www.hackerrank.com/challenges/jumping-on-the-clouds-revisited"
   ]
  },
  {
   "cell_type": "code",
   "execution_count": 1,
   "id": "d07a6a9f-3f51-4105-aa77-4ec6a9b4eb6b",
   "metadata": {},
   "outputs": [],
   "source": [
    "def jumpingOnClouds(c, k):\n",
    "    e = 99 if c[0] == 0 else 97 # energy level (adjusted for the last jump)\n",
    "    cc = k if k < len(c) else 0 # current cloud (where we currently are)\n",
    "\n",
    "    while cc != 0:\n",
    "        # update energy level\n",
    "        if c[cc] == 0:\n",
    "            e -= 1\n",
    "        else:\n",
    "            e -= 3\n",
    "\n",
    "        # jump to next cloud\n",
    "        cc += k\n",
    "\n",
    "        # circle around if needed\n",
    "        if cc > len(c) - 1:\n",
    "            cc -= len(c)\n",
    "\n",
    "    return e"
   ]
  },
  {
   "cell_type": "code",
   "execution_count": 2,
   "id": "fb83e4ca-1c61-4967-9ba1-504d5de0f64a",
   "metadata": {},
   "outputs": [
    {
     "data": {
      "text/plain": [
       "92"
      ]
     },
     "execution_count": 2,
     "metadata": {},
     "output_type": "execute_result"
    }
   ],
   "source": [
    "c = [0, 0, 1, 0, 0, 1, 1, 0]\n",
    "k = 2\n",
    "jumpingOnClouds(c, k)"
   ]
  },
  {
   "cell_type": "code",
   "execution_count": 3,
   "id": "8818d0e3-2dba-481f-aaec-e954c3e5a83b",
   "metadata": {},
   "outputs": [
    {
     "data": {
      "text/plain": [
       "80"
      ]
     },
     "execution_count": 3,
     "metadata": {},
     "output_type": "execute_result"
    }
   ],
   "source": [
    "c = [1, 1, 1, 0, 1, 1, 0, 0, 0, 0]\n",
    "k = 3\n",
    "jumpingOnClouds(c, k)"
   ]
  },
  {
   "cell_type": "code",
   "execution_count": 4,
   "id": "5a6c2160-9086-4d4a-9097-86ab7cbc9064",
   "metadata": {},
   "outputs": [
    {
     "data": {
      "text/plain": [
       "97"
      ]
     },
     "execution_count": 4,
     "metadata": {},
     "output_type": "execute_result"
    }
   ],
   "source": [
    "# Expected output: 97\n",
    "c = [1, 1, 0, 1, 0, 1, 0, 1, 0, 1, 0, 1, 1, 0, 1, 1, 1, 1, 1]\n",
    "k = 19\n",
    "jumpingOnClouds(c, k)"
   ]
  }
 ],
 "metadata": {
  "kernelspec": {
   "display_name": "Python 3 (ipykernel)",
   "language": "python",
   "name": "python3"
  },
  "language_info": {
   "codemirror_mode": {
    "name": "ipython",
    "version": 3
   },
   "file_extension": ".py",
   "mimetype": "text/x-python",
   "name": "python",
   "nbconvert_exporter": "python",
   "pygments_lexer": "ipython3",
   "version": "3.9.6"
  }
 },
 "nbformat": 4,
 "nbformat_minor": 5
}
