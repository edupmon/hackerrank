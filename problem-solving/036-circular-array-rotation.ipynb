{
 "cells": [
  {
   "cell_type": "markdown",
   "id": "e2e60327-6cab-4e6a-9af2-84e545e6cb44",
   "metadata": {},
   "source": [
    "https://www.hackerrank.com/challenges/circular-array-rotation"
   ]
  },
  {
   "cell_type": "code",
   "execution_count": 1,
   "id": "a7f37cb4-3066-4e02-9ca9-a2a927934480",
   "metadata": {},
   "outputs": [],
   "source": [
    "def circularArrayRotation(a, k, queries):\n",
    "    k = k % len(a)\n",
    "    a = a[-k:] + a[:-k]\n",
    "    return [a[i] for i in queries]"
   ]
  },
  {
   "cell_type": "code",
   "execution_count": 2,
   "id": "ffd9f72f-36d8-4c9c-b0d8-24b3c35c8ebd",
   "metadata": {},
   "outputs": [
    {
     "data": {
      "text/plain": [
       "[5, 3]"
      ]
     },
     "execution_count": 2,
     "metadata": {},
     "output_type": "execute_result"
    }
   ],
   "source": [
    "a = [3, 4, 5]\n",
    "k = 2\n",
    "queries = [1, 2]\n",
    "circularArrayRotation(a, k, queries)"
   ]
  }
 ],
 "metadata": {
  "kernelspec": {
   "display_name": "Python 3 (ipykernel)",
   "language": "python",
   "name": "python3"
  },
  "language_info": {
   "codemirror_mode": {
    "name": "ipython",
    "version": 3
   },
   "file_extension": ".py",
   "mimetype": "text/x-python",
   "name": "python",
   "nbconvert_exporter": "python",
   "pygments_lexer": "ipython3",
   "version": "3.9.6"
  }
 },
 "nbformat": 4,
 "nbformat_minor": 5
}
