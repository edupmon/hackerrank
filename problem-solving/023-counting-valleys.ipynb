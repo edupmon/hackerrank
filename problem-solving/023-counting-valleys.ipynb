{
 "cells": [
  {
   "cell_type": "markdown",
   "id": "c843cfff-3f5e-4e33-8f20-66807efd74dc",
   "metadata": {},
   "source": [
    "https://www.hackerrank.com/challenges/counting-valleys"
   ]
  },
  {
   "cell_type": "code",
   "execution_count": 1,
   "id": "c1c76746-37eb-4d90-a434-cf6b25b73bc7",
   "metadata": {},
   "outputs": [],
   "source": [
    "def countingValleys(steps, path):\n",
    "    valleys = 0\n",
    "    level = 0\n",
    "\n",
    "    for step in range(steps):\n",
    "        if path[step] == \"U\":\n",
    "            level += 1\n",
    "        else:\n",
    "            level -= 1\n",
    "\n",
    "        if level == 0 and path[step] == \"U\":\n",
    "            valleys += 1\n",
    "\n",
    "    return valleys"
   ]
  },
  {
   "cell_type": "code",
   "execution_count": 2,
   "id": "8db7aa8e-cce0-46ff-a58e-506a6eb98129",
   "metadata": {},
   "outputs": [
    {
     "data": {
      "text/plain": [
       "1"
      ]
     },
     "execution_count": 2,
     "metadata": {},
     "output_type": "execute_result"
    }
   ],
   "source": [
    "steps = 8\n",
    "path = \"UDDDUDUU\"\n",
    "countingValleys(steps, path)"
   ]
  },
  {
   "cell_type": "code",
   "execution_count": 3,
   "id": "7274dc0b-5043-48c5-ba07-3de6fb08f500",
   "metadata": {},
   "outputs": [
    {
     "data": {
      "text/plain": [
       "2"
      ]
     },
     "execution_count": 3,
     "metadata": {},
     "output_type": "execute_result"
    }
   ],
   "source": [
    "steps = 12\n",
    "path = \"DDUUDDUDUUUD\"\n",
    "countingValleys(steps, path)"
   ]
  }
 ],
 "metadata": {
  "kernelspec": {
   "display_name": "Python 3 (ipykernel)",
   "language": "python",
   "name": "python3"
  },
  "language_info": {
   "codemirror_mode": {
    "name": "ipython",
    "version": 3
   },
   "file_extension": ".py",
   "mimetype": "text/x-python",
   "name": "python",
   "nbconvert_exporter": "python",
   "pygments_lexer": "ipython3",
   "version": "3.9.6"
  }
 },
 "nbformat": 4,
 "nbformat_minor": 5
}
