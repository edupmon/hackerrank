{
 "cells": [
  {
   "cell_type": "markdown",
   "id": "68650f8b-8bed-4479-9ade-0106541f7fb2",
   "metadata": {},
   "source": [
    "https://www.hackerrank.com/challenges/apple-and-orange"
   ]
  },
  {
   "cell_type": "code",
   "execution_count": 1,
   "id": "93f7364c-dd8a-4b81-831f-21094589e907",
   "metadata": {},
   "outputs": [],
   "source": [
    "def countApplesAndOranges(s, t, a, b, apples, oranges):\n",
    "    apple_count, orange_count = 0, 0\n",
    "    \n",
    "    for apple in apples:\n",
    "        apple_postion = a + apple\n",
    "        if apple_postion >= s and apple_postion <= t:\n",
    "            apple_count += 1\n",
    "            \n",
    "    for orange in oranges:\n",
    "        orange_postion = b + orange\n",
    "        if orange_postion >= s and orange_postion <= t:\n",
    "            orange_count += 1\n",
    "            \n",
    "    print(apple_count)\n",
    "    print(orange_count)"
   ]
  },
  {
   "cell_type": "code",
   "execution_count": 2,
   "id": "dc247618-769b-439d-9487-5f85fde44398",
   "metadata": {},
   "outputs": [
    {
     "name": "stdout",
     "output_type": "stream",
     "text": [
      "1\n",
      "2\n"
     ]
    }
   ],
   "source": [
    "s = 7\n",
    "t = 10\n",
    "a = 4\n",
    "b = 12\n",
    "apples = [2, 3, -4]\n",
    "oranges = [3, -2, -4]\n",
    "\n",
    "countApplesAndOranges(s, t, a, b, apples, oranges)"
   ]
  },
  {
   "cell_type": "code",
   "execution_count": 3,
   "id": "ddfbc57d-39e8-4984-899b-d6e866a09f4a",
   "metadata": {},
   "outputs": [
    {
     "name": "stdout",
     "output_type": "stream",
     "text": [
      "1\n",
      "1\n"
     ]
    }
   ],
   "source": [
    "s = 7\n",
    "t = 11\n",
    "a = 5\n",
    "b = 15\n",
    "apples = [-2, 2, 1]\n",
    "oranges = [5, -6]\n",
    "\n",
    "countApplesAndOranges(s, t, a, b, apples, oranges)"
   ]
  }
 ],
 "metadata": {
  "kernelspec": {
   "display_name": "Python 3 (ipykernel)",
   "language": "python",
   "name": "python3"
  },
  "language_info": {
   "codemirror_mode": {
    "name": "ipython",
    "version": 3
   },
   "file_extension": ".py",
   "mimetype": "text/x-python",
   "name": "python",
   "nbconvert_exporter": "python",
   "pygments_lexer": "ipython3",
   "version": "3.9.6"
  }
 },
 "nbformat": 4,
 "nbformat_minor": 5
}
