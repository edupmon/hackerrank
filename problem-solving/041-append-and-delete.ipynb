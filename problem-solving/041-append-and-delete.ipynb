{
 "cells": [
  {
   "cell_type": "markdown",
   "id": "82fba1e5-30dd-4631-a4e7-70c3259d8ffb",
   "metadata": {},
   "source": [
    "https://www.hackerrank.com/challenges/append-and-delete"
   ]
  },
  {
   "cell_type": "code",
   "execution_count": 1,
   "id": "7cea4bb4-8dbf-43a0-a2b9-848c0a867fe3",
   "metadata": {},
   "outputs": [],
   "source": [
    "def apendAndDeleteHelper(s, t, k):\n",
    "    # common substring in both strings\n",
    "    c = 0\n",
    "    for i in range(min(len(s), len(t))):\n",
    "        if s[i] == t[i]:\n",
    "            c += 1\n",
    "        else:\n",
    "            break\n",
    "\n",
    "    # difference between s and t\n",
    "    d = len(s) - c + len(t) - c\n",
    "\n",
    "    # k - d must be positive as we need enough operations to turn t into s and\n",
    "    # it also need to be even as need one operation to remove a char and\n",
    "    # another one to add a char\n",
    "    return k >= d and (k - d) % 2 == 0"
   ]
  },
  {
   "cell_type": "code",
   "execution_count": 2,
   "id": "a002cf5f-743c-4266-9d71-578adfd911e1",
   "metadata": {},
   "outputs": [],
   "source": [
    "def appendAndDelete(s, t, k):\n",
    "    # both strings are equal\n",
    "    if s == t:\n",
    "        return 'Yes'\n",
    "    # we have enough operations to remove and add all chars from both s and t\n",
    "    if k >= len(s) + len(t):\n",
    "        return 'Yes'\n",
    "    # we need to check if we can turn s into t in k operations\n",
    "    elif apendAndDeleteHelper(s, t, k):\n",
    "        return 'Yes'\n",
    "    else:\n",
    "        return 'No'"
   ]
  },
  {
   "cell_type": "code",
   "execution_count": 3,
   "id": "d27b4bcd-7317-4e73-92e5-dda7ccff51ea",
   "metadata": {},
   "outputs": [
    {
     "data": {
      "text/plain": [
       "'Yes'"
      ]
     },
     "execution_count": 3,
     "metadata": {},
     "output_type": "execute_result"
    }
   ],
   "source": [
    "# Expected Output: Yes\n",
    "s = 'hackerhappy'\n",
    "t = 'hackerrank'\n",
    "k = 9\n",
    "appendAndDelete(s, t, k)"
   ]
  },
  {
   "cell_type": "code",
   "execution_count": 4,
   "id": "3e02078c-8e4a-4381-9600-9959edaeb7fe",
   "metadata": {},
   "outputs": [
    {
     "data": {
      "text/plain": [
       "'Yes'"
      ]
     },
     "execution_count": 4,
     "metadata": {},
     "output_type": "execute_result"
    }
   ],
   "source": [
    "# Expected Output: Yes\n",
    "s = 'aba'\n",
    "t = 'aba'\n",
    "k = 7\n",
    "appendAndDelete(s, t, k)"
   ]
  },
  {
   "cell_type": "code",
   "execution_count": 5,
   "id": "0e05492d-b582-47fb-b657-05f0542051ec",
   "metadata": {},
   "outputs": [
    {
     "data": {
      "text/plain": [
       "'No'"
      ]
     },
     "execution_count": 5,
     "metadata": {},
     "output_type": "execute_result"
    }
   ],
   "source": [
    "# Expected Output: No\n",
    "s = 'ashley'\n",
    "t = 'ash'\n",
    "k = 2\n",
    "appendAndDelete(s, t, k)"
   ]
  },
  {
   "cell_type": "code",
   "execution_count": 6,
   "id": "c0098adb-abad-4004-a5c9-3ee7bda267ae",
   "metadata": {},
   "outputs": [
    {
     "data": {
      "text/plain": [
       "'Yes'"
      ]
     },
     "execution_count": 6,
     "metadata": {},
     "output_type": "execute_result"
    }
   ],
   "source": [
    "# Expected Output: Yes\n",
    "s = 'aaaaaaaaaa'\n",
    "t = 'aaaaa'\n",
    "k = 7\n",
    "appendAndDelete(s, t, k)"
   ]
  },
  {
   "cell_type": "code",
   "execution_count": 7,
   "id": "2eb01c7f-4e1b-486b-bed6-d078720c5863",
   "metadata": {},
   "outputs": [
    {
     "data": {
      "text/plain": [
       "'Yes'"
      ]
     },
     "execution_count": 7,
     "metadata": {},
     "output_type": "execute_result"
    }
   ],
   "source": [
    "# Expected Output: Yes\n",
    "s = 'zzzzz'\n",
    "t = 'zzzzzzz'\n",
    "k = 4\n",
    "appendAndDelete(s, t, k)"
   ]
  },
  {
   "cell_type": "code",
   "execution_count": 8,
   "id": "91ec6a01-c1ad-4c39-b2bb-69da5ae32d6b",
   "metadata": {},
   "outputs": [
    {
     "data": {
      "text/plain": [
       "'No'"
      ]
     },
     "execution_count": 8,
     "metadata": {},
     "output_type": "execute_result"
    }
   ],
   "source": [
    "# Expected Output: No\n",
    "s = 'y'\n",
    "t = 'yu'\n",
    "k = 2\n",
    "appendAndDelete(s, t, k)"
   ]
  },
  {
   "cell_type": "code",
   "execution_count": 9,
   "id": "de7a35cb-fb12-4cbe-944f-c3eb724a5268",
   "metadata": {},
   "outputs": [
    {
     "data": {
      "text/plain": [
       "'Yes'"
      ]
     },
     "execution_count": 9,
     "metadata": {},
     "output_type": "execute_result"
    }
   ],
   "source": [
    "# Expected Output: Yes\n",
    "s = '''asdfqwertyuighjkzxcvasdfqwertyuighjkzxcvasdfqwertyuighjkzxcvasdfqwertyui\n",
    "       ghjkzxcvasdfqwertyuighjkzxcv'''\n",
    "t = '''asdfqwertyuighjkzxcvasdfqwertyuighjkzxcvasdfqwertyuighjkzxcvasdfqwertyui\n",
    "       ghjkzxcvasdfqwertyuighjkzxcv'''\n",
    "k = 20\n",
    "appendAndDelete(s, t, k)"
   ]
  },
  {
   "cell_type": "code",
   "execution_count": 10,
   "id": "ed5dc54d-83e2-4fcd-9bce-b4b9caed1efa",
   "metadata": {},
   "outputs": [
    {
     "data": {
      "text/plain": [
       "'No'"
      ]
     },
     "execution_count": 10,
     "metadata": {},
     "output_type": "execute_result"
    }
   ],
   "source": [
    "# Expected Output: No\n",
    "s = 'abcd'\n",
    "t = 'abcdert'\n",
    "k = 10\n",
    "appendAndDelete(s, t, k)"
   ]
  },
  {
   "cell_type": "code",
   "execution_count": 11,
   "id": "a77bc38a-59a0-4c39-bd3a-e53f38605ebc",
   "metadata": {},
   "outputs": [
    {
     "data": {
      "text/plain": [
       "'No'"
      ]
     },
     "execution_count": 11,
     "metadata": {},
     "output_type": "execute_result"
    }
   ],
   "source": [
    "# Expected Output: No\n",
    "s = 'qwerasdf'\n",
    "t = 'qwerbsdf'\n",
    "k = 6\n",
    "appendAndDelete(s, t, k)"
   ]
  },
  {
   "cell_type": "code",
   "execution_count": 12,
   "id": "7a349e5d-69d0-45fd-907d-12130e076bc1",
   "metadata": {},
   "outputs": [
    {
     "data": {
      "text/plain": [
       "'No'"
      ]
     },
     "execution_count": 12,
     "metadata": {},
     "output_type": "execute_result"
    }
   ],
   "source": [
    "# Expected Output: No\n",
    "s = '''asdfqwertyuighjkzxcvasdfqwertyuighjkzxcvasdfqwertyuighjkzxcvasdfqwertyui\n",
    "       ghjkzxcvasdfqwertyuighjkzxcv'''\n",
    "t = '''bsdfqwertyuighjkzxcvasdfqwertyuighjkzxcvasdfqwertyuighjkzxcvasdfqwertyui\n",
    "       ghjkzxcvasdfqwertyuighjkzxcv'''\n",
    "k = 100\n",
    "appendAndDelete(s, t, k)"
   ]
  },
  {
   "cell_type": "code",
   "execution_count": 13,
   "id": "51158710-8cde-438a-beb0-bbd3698e302a",
   "metadata": {},
   "outputs": [
    {
     "data": {
      "text/plain": [
       "'Yes'"
      ]
     },
     "execution_count": 13,
     "metadata": {},
     "output_type": "execute_result"
    }
   ],
   "source": [
    "# Expected Output: Yes\n",
    "s = 'abcdef'\n",
    "t = 'fedcba'\n",
    "k = 15\n",
    "appendAndDelete(s, t, k)"
   ]
  },
  {
   "cell_type": "code",
   "execution_count": 14,
   "id": "82492905-46d1-4c75-8186-c5e38f709cd9",
   "metadata": {},
   "outputs": [
    {
     "data": {
      "text/plain": [
       "'Yes'"
      ]
     },
     "execution_count": 14,
     "metadata": {},
     "output_type": "execute_result"
    }
   ],
   "source": [
    "# Expected Output: Yes\n",
    "s = 'aaa'\n",
    "t = 'a'\n",
    "k = 5\n",
    "appendAndDelete(s, t, k)"
   ]
  }
 ],
 "metadata": {
  "kernelspec": {
   "display_name": "Python 3 (ipykernel)",
   "language": "python",
   "name": "python3"
  },
  "language_info": {
   "codemirror_mode": {
    "name": "ipython",
    "version": 3
   },
   "file_extension": ".py",
   "mimetype": "text/x-python",
   "name": "python",
   "nbconvert_exporter": "python",
   "pygments_lexer": "ipython3",
   "version": "3.9.6"
  }
 },
 "nbformat": 4,
 "nbformat_minor": 5
}
