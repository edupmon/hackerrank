{
 "cells": [
  {
   "cell_type": "markdown",
   "id": "d9c3ea59-e8b0-4e52-8ec7-38c88a3f405c",
   "metadata": {},
   "source": [
    "https://www.hackerrank.com/challenges/between-two-sets"
   ]
  },
  {
   "cell_type": "code",
   "execution_count": 1,
   "id": "988fe668-3990-4683-8059-aaa933449613",
   "metadata": {},
   "outputs": [],
   "source": [
    "def getTotalX(a, b):\n",
    "    c = [i for i in range(max(a), min(b) + 1)] # between sets\n",
    "\n",
    "    # factors from a\n",
    "    list_a = []\n",
    "    for i in a:\n",
    "        list_a.append([j for j in c if j % i == 0])\n",
    "\n",
    "    # common factors from a\n",
    "    set_a = set(list_a[0])\n",
    "    for i in list_a[1:]:\n",
    "        set_a.intersection_update(i)\n",
    "\n",
    "    # factors from b\n",
    "    list_b = []\n",
    "    for i in b:\n",
    "        list_b.append([j for j in c if i % j == 0])\n",
    "\n",
    "    # common factors from b\n",
    "    set_b = set(list_b[0])\n",
    "    for i in list_b[1:]:\n",
    "        set_b.intersection_update(i)\n",
    "\n",
    "    # count of common elements in both sets\n",
    "    return len(set.intersection(set_a, set_b))"
   ]
  },
  {
   "cell_type": "code",
   "execution_count": 2,
   "id": "68a8151a-df46-4af2-950e-5c6ff9ecb7ce",
   "metadata": {},
   "outputs": [
    {
     "data": {
      "text/plain": [
       "2"
      ]
     },
     "execution_count": 2,
     "metadata": {},
     "output_type": "execute_result"
    }
   ],
   "source": [
    "a = [2, 6]\n",
    "b = [24, 36]\n",
    "getTotalX(a, b)"
   ]
  },
  {
   "cell_type": "code",
   "execution_count": 3,
   "id": "0912f647-ac9f-4ede-9145-01222554031c",
   "metadata": {},
   "outputs": [
    {
     "data": {
      "text/plain": [
       "3"
      ]
     },
     "execution_count": 3,
     "metadata": {},
     "output_type": "execute_result"
    }
   ],
   "source": [
    "a = [2, 4]\n",
    "b = [16, 32, 96]\n",
    "getTotalX(a, b)"
   ]
  },
  {
   "cell_type": "code",
   "execution_count": 4,
   "id": "48478d94-def7-4b6e-a9f2-28143d00f634",
   "metadata": {},
   "outputs": [
    {
     "data": {
      "text/plain": [
       "1"
      ]
     },
     "execution_count": 4,
     "metadata": {},
     "output_type": "execute_result"
    }
   ],
   "source": [
    "a = [2]\n",
    "b = [20, 30, 12]\n",
    "getTotalX(a, b)"
   ]
  },
  {
   "cell_type": "code",
   "execution_count": 5,
   "id": "bbce348c-f110-430a-b40f-44c8d61917bb",
   "metadata": {},
   "outputs": [
    {
     "data": {
      "text/plain": [
       "9"
      ]
     },
     "execution_count": 5,
     "metadata": {},
     "output_type": "execute_result"
    }
   ],
   "source": [
    "a = [1]\n",
    "b = [100]\n",
    "getTotalX(a, b)"
   ]
  },
  {
   "cell_type": "code",
   "execution_count": 6,
   "id": "eeb89e13-aa2b-4c0a-b1c1-bb495913639d",
   "metadata": {},
   "outputs": [
    {
     "data": {
      "text/plain": [
       "8"
      ]
     },
     "execution_count": 6,
     "metadata": {},
     "output_type": "execute_result"
    }
   ],
   "source": [
    "a = [1]\n",
    "b = [72, 48]\n",
    "getTotalX(a, b)"
   ]
  },
  {
   "cell_type": "code",
   "execution_count": 7,
   "id": "6e1c1f8f-1272-42d6-838e-85481d382755",
   "metadata": {},
   "outputs": [
    {
     "data": {
      "text/plain": [
       "2"
      ]
     },
     "execution_count": 7,
     "metadata": {},
     "output_type": "execute_result"
    }
   ],
   "source": [
    "a = [3, 4]\n",
    "b = [24, 48]\n",
    "getTotalX(a, b)"
   ]
  }
 ],
 "metadata": {
  "kernelspec": {
   "display_name": "Python 3 (ipykernel)",
   "language": "python",
   "name": "python3"
  },
  "language_info": {
   "codemirror_mode": {
    "name": "ipython",
    "version": 3
   },
   "file_extension": ".py",
   "mimetype": "text/x-python",
   "name": "python",
   "nbconvert_exporter": "python",
   "pygments_lexer": "ipython3",
   "version": "3.9.6"
  }
 },
 "nbformat": 4,
 "nbformat_minor": 5
}
