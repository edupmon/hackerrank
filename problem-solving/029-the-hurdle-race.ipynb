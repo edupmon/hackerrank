{
 "cells": [
  {
   "cell_type": "markdown",
   "id": "0f420906-f4fe-485e-8de5-966aa4233fe7",
   "metadata": {},
   "source": [
    "https://www.hackerrank.com/challenges/the-hurdle-race"
   ]
  },
  {
   "cell_type": "code",
   "execution_count": 1,
   "id": "33bb3fa8-4e3d-4e51-82db-de2bd12245c7",
   "metadata": {},
   "outputs": [],
   "source": [
    "def hurdleRace(k, height):\n",
    "    return max(height) - k if max(height) > k else 0"
   ]
  },
  {
   "cell_type": "code",
   "execution_count": 2,
   "id": "9b672308-0463-4061-a57f-d505e83ea88e",
   "metadata": {},
   "outputs": [
    {
     "data": {
      "text/plain": [
       "2"
      ]
     },
     "execution_count": 2,
     "metadata": {},
     "output_type": "execute_result"
    }
   ],
   "source": [
    "k = 4\n",
    "height = [1, 6, 3, 5, 2]\n",
    "hurdleRace(k, height)"
   ]
  },
  {
   "cell_type": "code",
   "execution_count": 3,
   "id": "c39e1c2f-0373-422b-b46c-1dfcd8192bb3",
   "metadata": {},
   "outputs": [
    {
     "data": {
      "text/plain": [
       "0"
      ]
     },
     "execution_count": 3,
     "metadata": {},
     "output_type": "execute_result"
    }
   ],
   "source": [
    "k = 7\n",
    "height = [2, 5, 4, 5, 2]\n",
    "hurdleRace(k, height)"
   ]
  }
 ],
 "metadata": {
  "kernelspec": {
   "display_name": "Python 3 (ipykernel)",
   "language": "python",
   "name": "python3"
  },
  "language_info": {
   "codemirror_mode": {
    "name": "ipython",
    "version": 3
   },
   "file_extension": ".py",
   "mimetype": "text/x-python",
   "name": "python",
   "nbconvert_exporter": "python",
   "pygments_lexer": "ipython3",
   "version": "3.9.6"
  }
 },
 "nbformat": 4,
 "nbformat_minor": 5
}
