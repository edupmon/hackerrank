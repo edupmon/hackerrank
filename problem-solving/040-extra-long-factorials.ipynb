{
 "cells": [
  {
   "cell_type": "markdown",
   "id": "a0d7997b-a95a-44d2-b832-a3a9f97028be",
   "metadata": {},
   "source": [
    "https://www.hackerrank.com/challenges/extra-long-factorials"
   ]
  },
  {
   "cell_type": "code",
   "execution_count": 1,
   "id": "17ec1dd9-e2c8-4223-afe3-edef141b40c4",
   "metadata": {},
   "outputs": [],
   "source": [
    "def extraLongFactorials(n):\n",
    "    total = 1\n",
    "\n",
    "    while n > 0:\n",
    "        total = total * n\n",
    "        n -= 1\n",
    "\n",
    "    print(total)"
   ]
  },
  {
   "cell_type": "code",
   "execution_count": 2,
   "id": "a76d5763-0eb2-44be-a1b4-5a7690068d9c",
   "metadata": {},
   "outputs": [
    {
     "name": "stdout",
     "output_type": "stream",
     "text": [
      "265252859812191058636308480000000\n"
     ]
    }
   ],
   "source": [
    "n = 30\n",
    "extraLongFactorials(n)"
   ]
  },
  {
   "cell_type": "code",
   "execution_count": 3,
   "id": "aae90980-d6e6-4258-8959-683e2b1e2424",
   "metadata": {},
   "outputs": [
    {
     "name": "stdout",
     "output_type": "stream",
     "text": [
      "15511210043330985984000000\n"
     ]
    }
   ],
   "source": [
    "n = 25\n",
    "extraLongFactorials(n)"
   ]
  }
 ],
 "metadata": {
  "kernelspec": {
   "display_name": "Python 3 (ipykernel)",
   "language": "python",
   "name": "python3"
  },
  "language_info": {
   "codemirror_mode": {
    "name": "ipython",
    "version": 3
   },
   "file_extension": ".py",
   "mimetype": "text/x-python",
   "name": "python",
   "nbconvert_exporter": "python",
   "pygments_lexer": "ipython3",
   "version": "3.9.6"
  }
 },
 "nbformat": 4,
 "nbformat_minor": 5
}
