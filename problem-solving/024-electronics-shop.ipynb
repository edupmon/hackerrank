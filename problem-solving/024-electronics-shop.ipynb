{
 "cells": [
  {
   "cell_type": "markdown",
   "id": "3fd290ab-660a-4629-bc73-68e4143f7f4d",
   "metadata": {},
   "source": [
    "https://www.hackerrank.com/challenges/electronics-shop"
   ]
  },
  {
   "cell_type": "code",
   "execution_count": 1,
   "id": "0f930456-1780-4625-8273-83f07377af86",
   "metadata": {},
   "outputs": [],
   "source": [
    "def getMoneySpent(keyboards, drives, b):\n",
    "    return max([k + d for k in keyboards for d in drives if k + d <= b] + [-1])"
   ]
  },
  {
   "cell_type": "code",
   "execution_count": 2,
   "id": "d99fb843-7cf4-46f0-b795-44ed397a61e1",
   "metadata": {},
   "outputs": [
    {
     "data": {
      "text/plain": [
       "9"
      ]
     },
     "execution_count": 2,
     "metadata": {},
     "output_type": "execute_result"
    }
   ],
   "source": [
    "keyboards = [3, 1]\n",
    "drives = [5, 2, 8]\n",
    "b = 10\n",
    "getMoneySpent(keyboards, drives, b)"
   ]
  },
  {
   "cell_type": "code",
   "execution_count": 3,
   "id": "4b04a7bf-ec1c-4d18-b5a6-918d89d25013",
   "metadata": {},
   "outputs": [
    {
     "data": {
      "text/plain": [
       "-1"
      ]
     },
     "execution_count": 3,
     "metadata": {},
     "output_type": "execute_result"
    }
   ],
   "source": [
    "keyboards = [4]\n",
    "drives = [5]\n",
    "b = 5\n",
    "getMoneySpent(keyboards, drives, b)"
   ]
  }
 ],
 "metadata": {
  "kernelspec": {
   "display_name": "Python 3 (ipykernel)",
   "language": "python",
   "name": "python3"
  },
  "language_info": {
   "codemirror_mode": {
    "name": "ipython",
    "version": 3
   },
   "file_extension": ".py",
   "mimetype": "text/x-python",
   "name": "python",
   "nbconvert_exporter": "python",
   "pygments_lexer": "ipython3",
   "version": "3.9.6"
  }
 },
 "nbformat": 4,
 "nbformat_minor": 5
}
