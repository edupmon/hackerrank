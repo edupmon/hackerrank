{
 "cells": [
  {
   "cell_type": "markdown",
   "id": "fe96e74a-4317-489e-ae99-993723255023",
   "metadata": {},
   "source": [
    "https://www.hackerrank.com/challenges/strange-advertising"
   ]
  },
  {
   "cell_type": "code",
   "execution_count": 1,
   "id": "1e84d60a-32b3-4d6d-a812-43bec714ff2a",
   "metadata": {},
   "outputs": [],
   "source": [
    "def viralAdvertising(n):\n",
    "    likes = 2\n",
    "    shares = 5\n",
    "    for i in range(1, n):\n",
    "        shares = shares // 2 * 3\n",
    "        likes += shares // 2\n",
    "    return likes"
   ]
  },
  {
   "cell_type": "code",
   "execution_count": 2,
   "id": "cb8937fe-ef77-4f7a-bf97-48161139afd4",
   "metadata": {},
   "outputs": [
    {
     "data": {
      "text/plain": [
       "24"
      ]
     },
     "execution_count": 2,
     "metadata": {},
     "output_type": "execute_result"
    }
   ],
   "source": [
    "viralAdvertising(5)"
   ]
  },
  {
   "cell_type": "code",
   "execution_count": 3,
   "id": "f7c7209a-c497-4ea4-ab7f-3383db201ac7",
   "metadata": {},
   "outputs": [
    {
     "data": {
      "text/plain": [
       "9"
      ]
     },
     "execution_count": 3,
     "metadata": {},
     "output_type": "execute_result"
    }
   ],
   "source": [
    "viralAdvertising(3)"
   ]
  }
 ],
 "metadata": {
  "kernelspec": {
   "display_name": "Python 3 (ipykernel)",
   "language": "python",
   "name": "python3"
  },
  "language_info": {
   "codemirror_mode": {
    "name": "ipython",
    "version": 3
   },
   "file_extension": ".py",
   "mimetype": "text/x-python",
   "name": "python",
   "nbconvert_exporter": "python",
   "pygments_lexer": "ipython3",
   "version": "3.9.6"
  }
 },
 "nbformat": 4,
 "nbformat_minor": 5
}
