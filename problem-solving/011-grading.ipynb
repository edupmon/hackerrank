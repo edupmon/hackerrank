{
 "cells": [
  {
   "cell_type": "markdown",
   "id": "692167f4-fd6d-4a03-b96b-3405f68d23eb",
   "metadata": {},
   "source": [
    "https://www.hackerrank.com/challenges/grading"
   ]
  },
  {
   "cell_type": "code",
   "execution_count": 1,
   "id": "44d4f23b-6637-4f2c-8701-bc84d5f4fbea",
   "metadata": {},
   "outputs": [],
   "source": [
    "def gradingStudents(grades):\n",
    "    rounded_grades = []\n",
    "\n",
    "    for i in grades:\n",
    "        grade_part = i % 10\n",
    "        grade_diff = 0\n",
    "\n",
    "        if grade_part > 5:\n",
    "            grade_diff = 10 - grade_part\n",
    "        elif grade_part < 5:\n",
    "            grade_diff = 5 - grade_part\n",
    "\n",
    "        if i < 38 or grade_diff >= 3:\n",
    "            rounded_grades.append(i)\n",
    "        else:\n",
    "            rounded_grades.append(i + grade_diff)\n",
    "\n",
    "    return rounded_grades"
   ]
  },
  {
   "cell_type": "code",
   "execution_count": 2,
   "id": "9648fd33-0214-4b4d-926e-100f24c6fbf3",
   "metadata": {},
   "outputs": [
    {
     "data": {
      "text/plain": [
       "[75, 67, 40, 33]"
      ]
     },
     "execution_count": 2,
     "metadata": {},
     "output_type": "execute_result"
    }
   ],
   "source": [
    "grades = [73, 67, 38, 33]\n",
    "gradingStudents(grades)"
   ]
  }
 ],
 "metadata": {
  "kernelspec": {
   "display_name": "Python 3 (ipykernel)",
   "language": "python",
   "name": "python3"
  },
  "language_info": {
   "codemirror_mode": {
    "name": "ipython",
    "version": 3
   },
   "file_extension": ".py",
   "mimetype": "text/x-python",
   "name": "python",
   "nbconvert_exporter": "python",
   "pygments_lexer": "ipython3",
   "version": "3.9.6"
  }
 },
 "nbformat": 4,
 "nbformat_minor": 5
}
