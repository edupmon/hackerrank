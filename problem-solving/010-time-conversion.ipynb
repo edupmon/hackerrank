{
 "cells": [
  {
   "cell_type": "markdown",
   "id": "bb843403-6787-4e70-b1fb-dcc378809e78",
   "metadata": {},
   "source": [
    "https://www.hackerrank.com/challenges/time-conversion"
   ]
  },
  {
   "cell_type": "code",
   "execution_count": 1,
   "id": "b0ae9832-50e3-42aa-8d65-fde04c25b770",
   "metadata": {},
   "outputs": [],
   "source": [
    "def timeConversion(s):\n",
    "    if s.endswith('AM') and s.startswith('12'):\n",
    "        return '00' + s[2:-2]\n",
    "    elif s.endswith('AM') or (s.endswith('PM') and s.startswith('12')):\n",
    "        return s[:-2]\n",
    "    else:\n",
    "        return str(int(s[0:2]) + 12) + s[2:-2]"
   ]
  },
  {
   "cell_type": "code",
   "execution_count": 2,
   "id": "cbd14cb5-3a32-4d3d-bad7-3f50b7f059aa",
   "metadata": {},
   "outputs": [
    {
     "data": {
      "text/plain": [
       "'00:00:00'"
      ]
     },
     "execution_count": 2,
     "metadata": {},
     "output_type": "execute_result"
    }
   ],
   "source": [
    "s = '12:00:00AM'\n",
    "timeConversion(s)"
   ]
  },
  {
   "cell_type": "code",
   "execution_count": 3,
   "id": "d5b9a40d-e70f-4c45-9534-d35beb268f76",
   "metadata": {},
   "outputs": [
    {
     "data": {
      "text/plain": [
       "'00:01:00'"
      ]
     },
     "execution_count": 3,
     "metadata": {},
     "output_type": "execute_result"
    }
   ],
   "source": [
    "s = '12:01:00AM'\n",
    "timeConversion(s)"
   ]
  },
  {
   "cell_type": "code",
   "execution_count": 4,
   "id": "be011ea0-b043-4ea9-86fa-011eccfdbf3c",
   "metadata": {},
   "outputs": [
    {
     "data": {
      "text/plain": [
       "'01:01:00'"
      ]
     },
     "execution_count": 4,
     "metadata": {},
     "output_type": "execute_result"
    }
   ],
   "source": [
    "s = '01:01:00AM'\n",
    "timeConversion(s)"
   ]
  },
  {
   "cell_type": "code",
   "execution_count": 5,
   "id": "b3c0db44-a2f3-48f7-ad18-d83fcbd0571c",
   "metadata": {},
   "outputs": [
    {
     "data": {
      "text/plain": [
       "'11:01:00'"
      ]
     },
     "execution_count": 5,
     "metadata": {},
     "output_type": "execute_result"
    }
   ],
   "source": [
    "s = '11:01:00AM'\n",
    "timeConversion(s)"
   ]
  },
  {
   "cell_type": "code",
   "execution_count": 6,
   "id": "7823b895-a9a2-4a4f-911b-45d3ff1c97a6",
   "metadata": {},
   "outputs": [
    {
     "data": {
      "text/plain": [
       "'12:00:00'"
      ]
     },
     "execution_count": 6,
     "metadata": {},
     "output_type": "execute_result"
    }
   ],
   "source": [
    "s = '12:00:00PM'\n",
    "timeConversion(s)"
   ]
  },
  {
   "cell_type": "code",
   "execution_count": 7,
   "id": "ac9dc712-dbc4-4894-9206-caa88e797543",
   "metadata": {},
   "outputs": [
    {
     "data": {
      "text/plain": [
       "'12:01:00'"
      ]
     },
     "execution_count": 7,
     "metadata": {},
     "output_type": "execute_result"
    }
   ],
   "source": [
    "s = '12:01:00PM'\n",
    "timeConversion(s)"
   ]
  },
  {
   "cell_type": "code",
   "execution_count": 8,
   "id": "b40afad3-df4b-48e2-904a-2c33a2b93516",
   "metadata": {},
   "outputs": [
    {
     "data": {
      "text/plain": [
       "'13:01:00'"
      ]
     },
     "execution_count": 8,
     "metadata": {},
     "output_type": "execute_result"
    }
   ],
   "source": [
    "s = '01:01:00PM'\n",
    "timeConversion(s)"
   ]
  },
  {
   "cell_type": "code",
   "execution_count": 9,
   "id": "cf0993f7-ca36-427f-9213-8f1e77d349fe",
   "metadata": {},
   "outputs": [
    {
     "data": {
      "text/plain": [
       "'19:05:45'"
      ]
     },
     "execution_count": 9,
     "metadata": {},
     "output_type": "execute_result"
    }
   ],
   "source": [
    "s = '07:05:45PM'\n",
    "timeConversion(s)"
   ]
  },
  {
   "cell_type": "code",
   "execution_count": 10,
   "id": "174c191f-ddcf-4b51-9f96-b7004938a58a",
   "metadata": {},
   "outputs": [
    {
     "data": {
      "text/plain": [
       "'23:01:00'"
      ]
     },
     "execution_count": 10,
     "metadata": {},
     "output_type": "execute_result"
    }
   ],
   "source": [
    "s = '11:01:00PM'\n",
    "timeConversion(s)"
   ]
  },
  {
   "cell_type": "code",
   "execution_count": 11,
   "id": "42624f5e-c0ab-4c9a-b23c-38449a7b6e0b",
   "metadata": {},
   "outputs": [
    {
     "data": {
      "text/plain": [
       "'23:59:59'"
      ]
     },
     "execution_count": 11,
     "metadata": {},
     "output_type": "execute_result"
    }
   ],
   "source": [
    "s = '11:59:59PM'\n",
    "timeConversion(s)"
   ]
  }
 ],
 "metadata": {
  "kernelspec": {
   "display_name": "Python 3 (ipykernel)",
   "language": "python",
   "name": "python3"
  },
  "language_info": {
   "codemirror_mode": {
    "name": "ipython",
    "version": 3
   },
   "file_extension": ".py",
   "mimetype": "text/x-python",
   "name": "python",
   "nbconvert_exporter": "python",
   "pygments_lexer": "ipython3",
   "version": "3.9.6"
  }
 },
 "nbformat": 4,
 "nbformat_minor": 5
}
