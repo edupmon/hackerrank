{
 "cells": [
  {
   "cell_type": "markdown",
   "id": "f3b78c52-cfc2-4d2e-90e2-e88a64be1c77",
   "metadata": {},
   "source": [
    "https://www.hackerrank.com/challenges/beautiful-days-at-the-movies"
   ]
  },
  {
   "cell_type": "code",
   "execution_count": 1,
   "id": "afeaf7e7-da61-4361-aab3-2c8b6c5f13de",
   "metadata": {},
   "outputs": [],
   "source": [
    "def beautifulDays(i, j, k):\n",
    "    beautiful_days = 0\n",
    "    for d in range(i, j + 1):\n",
    "        if abs(d - int(str(d)[::-1])) % k == 0:\n",
    "            beautiful_days +=1\n",
    "    return beautiful_days"
   ]
  },
  {
   "cell_type": "code",
   "execution_count": 2,
   "id": "5439063c-8cc1-4d92-a543-5ff82feecbc0",
   "metadata": {},
   "outputs": [
    {
     "data": {
      "text/plain": [
       "2"
      ]
     },
     "execution_count": 2,
     "metadata": {},
     "output_type": "execute_result"
    }
   ],
   "source": [
    "i = 20\n",
    "j = 23\n",
    "k = 6\n",
    "beautifulDays(i, j, k)"
   ]
  }
 ],
 "metadata": {
  "kernelspec": {
   "display_name": "Python 3 (ipykernel)",
   "language": "python",
   "name": "python3"
  },
  "language_info": {
   "codemirror_mode": {
    "name": "ipython",
    "version": 3
   },
   "file_extension": ".py",
   "mimetype": "text/x-python",
   "name": "python",
   "nbconvert_exporter": "python",
   "pygments_lexer": "ipython3",
   "version": "3.9.6"
  }
 },
 "nbformat": 4,
 "nbformat_minor": 5
}
