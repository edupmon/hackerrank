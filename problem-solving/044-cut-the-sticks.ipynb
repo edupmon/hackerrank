{
 "cells": [
  {
   "cell_type": "markdown",
   "id": "cbde57cb-8f68-4484-826f-fbfc865a5267",
   "metadata": {},
   "source": [
    "https://www.hackerrank.com/challenges/cut-the-sticks"
   ]
  },
  {
   "cell_type": "code",
   "execution_count": 1,
   "id": "8f701749-c639-435f-b463-1557984dd1b9",
   "metadata": {},
   "outputs": [],
   "source": [
    "def cutTheSticks(arr):\n",
    "    ret_val = []\n",
    "    while len(arr) >= 1:\n",
    "        ret_val.append(len(arr))\n",
    "        arr = [i - min(arr) for i in arr if i > min(arr)]\n",
    "    return ret_val"
   ]
  },
  {
   "cell_type": "code",
   "execution_count": 2,
   "id": "fd610cf5-39f8-46d5-a21b-13d16760689e",
   "metadata": {},
   "outputs": [
    {
     "data": {
      "text/plain": [
       "[6, 4, 2, 1]"
      ]
     },
     "execution_count": 2,
     "metadata": {},
     "output_type": "execute_result"
    }
   ],
   "source": [
    "# Expected Output: [6, 4, 2, 1]\n",
    "arr = [5, 4, 4, 2, 2, 8]\n",
    "cutTheSticks(arr)"
   ]
  },
  {
   "cell_type": "code",
   "execution_count": 3,
   "id": "01db2be5-d173-4b6f-9cdd-ea8cc20951bb",
   "metadata": {},
   "outputs": [
    {
     "data": {
      "text/plain": [
       "[8, 6, 4, 1]"
      ]
     },
     "execution_count": 3,
     "metadata": {},
     "output_type": "execute_result"
    }
   ],
   "source": [
    "# Expected Output: [8, 6, 4, 1]\n",
    "arr = [1, 2, 3, 4, 3, 3, 2, 1]\n",
    "cutTheSticks(arr)"
   ]
  },
  {
   "cell_type": "code",
   "execution_count": 4,
   "id": "984a0aa1-b137-4bbe-a843-b9581fa4421a",
   "metadata": {},
   "outputs": [
    {
     "data": {
      "text/plain": [
       "[8, 7, 6, 4, 3, 2]"
      ]
     },
     "execution_count": 4,
     "metadata": {},
     "output_type": "execute_result"
    }
   ],
   "source": [
    "# Expected Output: [8, 7, 6, 4, 3, 2]\n",
    "arr = [8, 8, 14, 10, 3, 5, 14, 12]\n",
    "cutTheSticks(arr)"
   ]
  },
  {
   "cell_type": "code",
   "execution_count": 5,
   "id": "80e37fea-2778-466c-ad6a-d673f3f37545",
   "metadata": {},
   "outputs": [
    {
     "data": {
      "text/plain": [
       "[5]"
      ]
     },
     "execution_count": 5,
     "metadata": {},
     "output_type": "execute_result"
    }
   ],
   "source": [
    "# Expected Output: [5]\n",
    "arr = [1, 1, 1, 1, 1]\n",
    "cutTheSticks(arr)"
   ]
  }
 ],
 "metadata": {
  "kernelspec": {
   "display_name": "Python 3 (ipykernel)",
   "language": "python",
   "name": "python3"
  },
  "language_info": {
   "codemirror_mode": {
    "name": "ipython",
    "version": 3
   },
   "file_extension": ".py",
   "mimetype": "text/x-python",
   "name": "python",
   "nbconvert_exporter": "python",
   "pygments_lexer": "ipython3",
   "version": "3.9.6"
  }
 },
 "nbformat": 4,
 "nbformat_minor": 5
}
