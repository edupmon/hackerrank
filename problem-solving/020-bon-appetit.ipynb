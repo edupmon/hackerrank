{
 "cells": [
  {
   "cell_type": "markdown",
   "id": "54c3b8b0-cca0-4a7f-b1c1-26f0eeb347a7",
   "metadata": {},
   "source": [
    "https://www.hackerrank.com/challenges/bon-appetit"
   ]
  },
  {
   "cell_type": "code",
   "execution_count": 1,
   "id": "b7704c1f-181b-4f4c-9934-1b8f07b4a87d",
   "metadata": {},
   "outputs": [],
   "source": [
    "def bonAppetit(bill, k, b):\n",
    "    del bill[k]\n",
    "    amount = sum(bill) / 2\n",
    "    if amount == b:\n",
    "        print(\"Bon Appetit\")\n",
    "    else:\n",
    "        print(int(b - amount))"
   ]
  },
  {
   "cell_type": "code",
   "execution_count": 2,
   "id": "8476efd7-a612-4dab-96e0-10ef58c17329",
   "metadata": {},
   "outputs": [
    {
     "name": "stdout",
     "output_type": "stream",
     "text": [
      "5\n"
     ]
    }
   ],
   "source": [
    "bill = [3, 10, 2, 9]\n",
    "b = 12\n",
    "k = 1\n",
    "\n",
    "bonAppetit(bill, k, b)"
   ]
  },
  {
   "cell_type": "code",
   "execution_count": 3,
   "id": "34ce93a7-9f89-45a7-8f6f-3c43220dbc92",
   "metadata": {},
   "outputs": [
    {
     "name": "stdout",
     "output_type": "stream",
     "text": [
      "Bon Appetit\n"
     ]
    }
   ],
   "source": [
    "bill = [3, 10, 2, 9]\n",
    "b = 7\n",
    "k = 1\n",
    "\n",
    "bonAppetit(bill, k, b)"
   ]
  }
 ],
 "metadata": {
  "kernelspec": {
   "display_name": "Python 3 (ipykernel)",
   "language": "python",
   "name": "python3"
  },
  "language_info": {
   "codemirror_mode": {
    "name": "ipython",
    "version": 3
   },
   "file_extension": ".py",
   "mimetype": "text/x-python",
   "name": "python",
   "nbconvert_exporter": "python",
   "pygments_lexer": "ipython3",
   "version": "3.9.6"
  }
 },
 "nbformat": 4,
 "nbformat_minor": 5
}
