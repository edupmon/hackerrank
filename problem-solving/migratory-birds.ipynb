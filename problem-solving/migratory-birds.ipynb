{
 "cells": [
  {
   "cell_type": "markdown",
   "id": "977f6397-39ce-4325-90d2-07568de69165",
   "metadata": {},
   "source": [
    "https://www.hackerrank.com/challenges/migratory-birds"
   ]
  },
  {
   "cell_type": "code",
   "execution_count": 1,
   "id": "e6dcc5d3-bc7b-460c-b3db-9caffc2c86a0",
   "metadata": {},
   "outputs": [],
   "source": [
    "from collections import Counter"
   ]
  },
  {
   "cell_type": "code",
   "execution_count": 2,
   "id": "04e5ef71-14c1-43be-93cc-592f06b50dbf",
   "metadata": {},
   "outputs": [],
   "source": [
    "def migratoryBirds(arr):\n",
    "    d = dict(Counter(arr).most_common())\n",
    "    max_count = max(d.values())\n",
    "    max_list=[]\n",
    "    for k, v in d.items():\n",
    "        if v == max_count:\n",
    "            max_list.append(k)\n",
    "    return min(max_list)"
   ]
  },
  {
   "cell_type": "code",
   "execution_count": 3,
   "id": "f7236db3-5ec3-40ec-b4b4-b24dfccd919f",
   "metadata": {},
   "outputs": [
    {
     "data": {
      "text/plain": [
       "1"
      ]
     },
     "execution_count": 3,
     "metadata": {},
     "output_type": "execute_result"
    }
   ],
   "source": [
    "arr = [1, 1, 2, 2, 3]\n",
    "\n",
    "migratoryBirds(arr)"
   ]
  },
  {
   "cell_type": "code",
   "execution_count": 4,
   "id": "a9c169e3-cf15-442d-be9a-bff91dc40fab",
   "metadata": {},
   "outputs": [
    {
     "data": {
      "text/plain": [
       "4"
      ]
     },
     "execution_count": 4,
     "metadata": {},
     "output_type": "execute_result"
    }
   ],
   "source": [
    "arr = [1, 4, 4, 4, 5, 3]\n",
    "\n",
    "migratoryBirds(arr)"
   ]
  }
 ],
 "metadata": {
  "kernelspec": {
   "display_name": "Python 3 (ipykernel)",
   "language": "python",
   "name": "python3"
  },
  "language_info": {
   "codemirror_mode": {
    "name": "ipython",
    "version": 3
   },
   "file_extension": ".py",
   "mimetype": "text/x-python",
   "name": "python",
   "nbconvert_exporter": "python",
   "pygments_lexer": "ipython3",
   "version": "3.9.6"
  }
 },
 "nbformat": 4,
 "nbformat_minor": 5
}
