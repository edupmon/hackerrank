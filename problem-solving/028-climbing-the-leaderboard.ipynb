{
 "cells": [
  {
   "cell_type": "markdown",
   "id": "8204fe0f-3563-4e39-8ce9-de5cffc51a9a",
   "metadata": {},
   "source": [
    "https://www.hackerrank.com/challenges/climbing-the-leaderboard"
   ]
  },
  {
   "cell_type": "code",
   "execution_count": 1,
   "id": "47e12960-8ed7-44e2-bf69-d23ac310b4d6",
   "metadata": {},
   "outputs": [],
   "source": [
    "def climbingLeaderboard(ranked, player):\n",
    "    player_position = []\n",
    "    rank = list(set(ranked))\n",
    "    rank.sort(reverse = True)\n",
    "    for p in player:\n",
    "        while len(rank) > 0 and p >= rank[-1]:\n",
    "            rank.pop()\n",
    "        player_position.append(len(rank) + 1)\n",
    "    return player_position"
   ]
  },
  {
   "cell_type": "code",
   "execution_count": 2,
   "id": "6892e983-aef5-431e-8d71-f6809b7b3f3b",
   "metadata": {},
   "outputs": [
    {
     "data": {
      "text/plain": [
       "[6, 4, 2, 1]"
      ]
     },
     "execution_count": 2,
     "metadata": {},
     "output_type": "execute_result"
    }
   ],
   "source": [
    "ranked = [100, 100, 50, 40, 40, 20, 10]\n",
    "player = [5, 25, 50, 120]\n",
    "climbingLeaderboard(ranked, player)"
   ]
  }
 ],
 "metadata": {
  "kernelspec": {
   "display_name": "Python 3 (ipykernel)",
   "language": "python",
   "name": "python3"
  },
  "language_info": {
   "codemirror_mode": {
    "name": "ipython",
    "version": 3
   },
   "file_extension": ".py",
   "mimetype": "text/x-python",
   "name": "python",
   "nbconvert_exporter": "python",
   "pygments_lexer": "ipython3",
   "version": "3.9.6"
  }
 },
 "nbformat": 4,
 "nbformat_minor": 5
}
