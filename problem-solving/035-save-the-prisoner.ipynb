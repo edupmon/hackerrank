{
 "cells": [
  {
   "cell_type": "markdown",
   "id": "5c70010b-575f-4cec-b13a-f1c2b5fc3e78",
   "metadata": {},
   "source": [
    "https://www.hackerrank.com/challenges/save-the-prisoner"
   ]
  },
  {
   "cell_type": "code",
   "execution_count": 1,
   "id": "f403ad9b-fc8c-441a-8377-aca8813f3d8b",
   "metadata": {},
   "outputs": [],
   "source": [
    "def saveThePrisoner(n, m, s):\n",
    "    last_round = (m % n + s - 1) % n\n",
    "    return n if last_round == 0 else last_round"
   ]
  },
  {
   "cell_type": "code",
   "execution_count": 2,
   "id": "9952a1c9-00a2-45aa-b0c3-ea51b7ebec06",
   "metadata": {},
   "outputs": [
    {
     "data": {
      "text/plain": [
       "3"
      ]
     },
     "execution_count": 2,
     "metadata": {},
     "output_type": "execute_result"
    }
   ],
   "source": [
    "# Expected Value: 3\n",
    "n = 4\n",
    "m = 6\n",
    "s = 2\n",
    "saveThePrisoner(n, m, s)"
   ]
  },
  {
   "cell_type": "code",
   "execution_count": 3,
   "id": "f8e9b9bd-3351-423e-a011-9c94d961e001",
   "metadata": {},
   "outputs": [
    {
     "data": {
      "text/plain": [
       "2"
      ]
     },
     "execution_count": 3,
     "metadata": {},
     "output_type": "execute_result"
    }
   ],
   "source": [
    "# Expected Value: 2\n",
    "n = 5\n",
    "m = 2\n",
    "s = 1\n",
    "saveThePrisoner(n, m, s)"
   ]
  },
  {
   "cell_type": "code",
   "execution_count": 4,
   "id": "1253cd71-afd9-46a6-8f6c-2f5e25eeaac5",
   "metadata": {},
   "outputs": [
    {
     "data": {
      "text/plain": [
       "3"
      ]
     },
     "execution_count": 4,
     "metadata": {},
     "output_type": "execute_result"
    }
   ],
   "source": [
    "# Expected Value: 3\n",
    "n = 5\n",
    "m = 2\n",
    "s = 2\n",
    "saveThePrisoner(n, m, s)"
   ]
  },
  {
   "cell_type": "code",
   "execution_count": 5,
   "id": "201f5047-c6db-48f7-8071-980ddc97ccbd",
   "metadata": {},
   "outputs": [
    {
     "data": {
      "text/plain": [
       "6"
      ]
     },
     "execution_count": 5,
     "metadata": {},
     "output_type": "execute_result"
    }
   ],
   "source": [
    "# Expected Value: 6\n",
    "n = 7\n",
    "m = 19\n",
    "s = 2\n",
    "saveThePrisoner(n, m, s)"
   ]
  },
  {
   "cell_type": "code",
   "execution_count": 6,
   "id": "c8fb8d8a-2523-4bd3-b1e0-5f4ca7a369a6",
   "metadata": {},
   "outputs": [
    {
     "data": {
      "text/plain": [
       "3"
      ]
     },
     "execution_count": 6,
     "metadata": {},
     "output_type": "execute_result"
    }
   ],
   "source": [
    "# Expected Value: 3\n",
    "n = 3\n",
    "m = 7\n",
    "s = 3\n",
    "saveThePrisoner(n, m, s)"
   ]
  },
  {
   "cell_type": "code",
   "execution_count": 7,
   "id": "b3dde540-225e-4734-9d15-83410573ae03",
   "metadata": {},
   "outputs": [
    {
     "data": {
      "text/plain": [
       "122129406"
      ]
     },
     "execution_count": 7,
     "metadata": {},
     "output_type": "execute_result"
    }
   ],
   "source": [
    "# Expected Value: 122129406\n",
    "n = 352926151\n",
    "m = 380324688\n",
    "s = 94730870\n",
    "saveThePrisoner(n, m, s)"
   ]
  },
  {
   "cell_type": "code",
   "execution_count": 8,
   "id": "3ac8f843-93ae-41d4-9181-4dab370c03ad",
   "metadata": {},
   "outputs": [
    {
     "data": {
      "text/plain": [
       "49690850"
      ]
     },
     "execution_count": 8,
     "metadata": {},
     "output_type": "execute_result"
    }
   ],
   "source": [
    "# Expected Value: 49690850\n",
    "n = 368127406\n",
    "m = 680428368\n",
    "s = 105517295\n",
    "saveThePrisoner(n, m, s)"
   ]
  },
  {
   "cell_type": "code",
   "execution_count": 9,
   "id": "f398797a-f2bf-4ce2-9a60-8bf05f5e1f2b",
   "metadata": {},
   "outputs": [
    {
     "data": {
      "text/plain": [
       "20809"
      ]
     },
     "execution_count": 9,
     "metadata": {},
     "output_type": "execute_result"
    }
   ],
   "source": [
    "# Expected Value: 20809\n",
    "n = 46934\n",
    "m = 543563655\n",
    "s = 46743\n",
    "saveThePrisoner(n, m, s)"
   ]
  },
  {
   "cell_type": "code",
   "execution_count": 10,
   "id": "d2d529a0-8cc8-4b0c-8a6c-4e14972a4c5b",
   "metadata": {},
   "outputs": [
    {
     "data": {
      "text/plain": [
       "999983943"
      ]
     },
     "execution_count": 10,
     "metadata": {},
     "output_type": "execute_result"
    }
   ],
   "source": [
    "# Expected Value: 999983943\n",
    "n = 999999999\n",
    "m = 999999998\n",
    "s = 999983945\n",
    "saveThePrisoner(n, m, s)"
   ]
  },
  {
   "cell_type": "code",
   "execution_count": 11,
   "id": "4a4599ad-1dfe-4ffa-9583-b40b81ef4dff",
   "metadata": {},
   "outputs": [
    {
     "data": {
      "text/plain": [
       "1"
      ]
     },
     "execution_count": 11,
     "metadata": {},
     "output_type": "execute_result"
    }
   ],
   "source": [
    "# Expected Value: 1\n",
    "n = 2\n",
    "m = 576581\n",
    "s = 1\n",
    "saveThePrisoner(n, m, s)"
   ]
  },
  {
   "cell_type": "code",
   "execution_count": 12,
   "id": "7f8bd444-b202-416b-aabc-a36daf550897",
   "metadata": {},
   "outputs": [
    {
     "data": {
      "text/plain": [
       "1"
      ]
     },
     "execution_count": 12,
     "metadata": {},
     "output_type": "execute_result"
    }
   ],
   "source": [
    "# Expected Value: 1\n",
    "n = 31\n",
    "m = 238250965\n",
    "s = 2\n",
    "saveThePrisoner(n, m, s)"
   ]
  },
  {
   "cell_type": "code",
   "execution_count": 13,
   "id": "bd134cae-8015-4c58-b6af-7cf83b4d302a",
   "metadata": {},
   "outputs": [
    {
     "data": {
      "text/plain": [
       "1"
      ]
     },
     "execution_count": 13,
     "metadata": {},
     "output_type": "execute_result"
    }
   ],
   "source": [
    "# Expected Value: 1\n",
    "n = 53\n",
    "m = 694907486\n",
    "s = 2\n",
    "saveThePrisoner(n, m, s)"
   ]
  },
  {
   "cell_type": "code",
   "execution_count": 14,
   "id": "c0311e1e-3c12-46e5-b4b3-91d3fa1d41db",
   "metadata": {},
   "outputs": [
    {
     "data": {
      "text/plain": [
       "999999999"
      ]
     },
     "execution_count": 14,
     "metadata": {},
     "output_type": "execute_result"
    }
   ],
   "source": [
    "# Expected Value: 999999999\n",
    "n = 999999999\n",
    "m = 999999999\n",
    "s = 1\n",
    "saveThePrisoner(n, m, s)"
   ]
  }
 ],
 "metadata": {
  "kernelspec": {
   "display_name": "Python 3 (ipykernel)",
   "language": "python",
   "name": "python3"
  },
  "language_info": {
   "codemirror_mode": {
    "name": "ipython",
    "version": 3
   },
   "file_extension": ".py",
   "mimetype": "text/x-python",
   "name": "python",
   "nbconvert_exporter": "python",
   "pygments_lexer": "ipython3",
   "version": "3.9.6"
  }
 },
 "nbformat": 4,
 "nbformat_minor": 5
}
