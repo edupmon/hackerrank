{
 "cells": [
  {
   "cell_type": "markdown",
   "id": "2c77c253-2861-4171-9dd5-90a6fdaa9441",
   "metadata": {},
   "source": [
    "https://www.hackerrank.com/challenges/picking-numbers"
   ]
  },
  {
   "cell_type": "code",
   "execution_count": 1,
   "id": "fdcaa712-74d5-4195-a0b1-32c3ee4f4454",
   "metadata": {},
   "outputs": [],
   "source": [
    "def pickingNumbers(a):\n",
    "    a.sort()\n",
    "    len_a = len(a)\n",
    "    max_len = 1\n",
    "    curr_max_len = 1\n",
    "    for i in range(len_a):\n",
    "        if curr_max_len > max_len:\n",
    "            max_len = curr_max_len\n",
    "        curr_max_len = 1\n",
    "        for j in range(i + 1, len_a):\n",
    "            if a[j] - a[i] <= 1:\n",
    "                curr_max_len += 1\n",
    "    return max_len"
   ]
  },
  {
   "cell_type": "code",
   "execution_count": 2,
   "id": "aee1d605-a3df-4385-aa54-be4ef20e3126",
   "metadata": {},
   "outputs": [
    {
     "data": {
      "text/plain": [
       "5"
      ]
     },
     "execution_count": 2,
     "metadata": {},
     "output_type": "execute_result"
    }
   ],
   "source": [
    "a = [1, 2, 2, 3, 1, 2]\n",
    "pickingNumbers(a)"
   ]
  },
  {
   "cell_type": "code",
   "execution_count": 3,
   "id": "24b9aaff-1716-4818-b292-a4a8f2e3ff88",
   "metadata": {},
   "outputs": [
    {
     "data": {
      "text/plain": [
       "3"
      ]
     },
     "execution_count": 3,
     "metadata": {},
     "output_type": "execute_result"
    }
   ],
   "source": [
    "a = [4, 6, 5, 3, 3, 1]\n",
    "pickingNumbers(a)"
   ]
  }
 ],
 "metadata": {
  "kernelspec": {
   "display_name": "Python 3 (ipykernel)",
   "language": "python",
   "name": "python3"
  },
  "language_info": {
   "codemirror_mode": {
    "name": "ipython",
    "version": 3
   },
   "file_extension": ".py",
   "mimetype": "text/x-python",
   "name": "python",
   "nbconvert_exporter": "python",
   "pygments_lexer": "ipython3",
   "version": "3.9.6"
  }
 },
 "nbformat": 4,
 "nbformat_minor": 5
}
