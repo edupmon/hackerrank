{
 "cells": [
  {
   "cell_type": "markdown",
   "id": "3659afc3-21e4-4df0-b343-c468d8e2cbe6",
   "metadata": {},
   "source": [
    "https://www.hackerrank.com/challenges/simple-array-sum"
   ]
  },
  {
   "cell_type": "code",
   "execution_count": 1,
   "id": "6fe41b56-2da8-4659-a281-6ece16718e8b",
   "metadata": {},
   "outputs": [],
   "source": [
    "def simpleArraySum(ar):\n",
    "    return sum(ar)"
   ]
  },
  {
   "cell_type": "code",
   "execution_count": 2,
   "id": "0ab8dffc-7651-45be-a148-50ec7066363e",
   "metadata": {},
   "outputs": [
    {
     "name": "stdout",
     "output_type": "stream",
     "text": [
      "31\n"
     ]
    }
   ],
   "source": [
    "print(simpleArraySum([1, 2, 3, 4, 10, 11]))"
   ]
  }
 ],
 "metadata": {
  "kernelspec": {
   "display_name": "Python 3 (ipykernel)",
   "language": "python",
   "name": "python3"
  },
  "language_info": {
   "codemirror_mode": {
    "name": "ipython",
    "version": 3
   },
   "file_extension": ".py",
   "mimetype": "text/x-python",
   "name": "python",
   "nbconvert_exporter": "python",
   "pygments_lexer": "ipython3",
   "version": "3.9.6"
  }
 },
 "nbformat": 4,
 "nbformat_minor": 5
}
