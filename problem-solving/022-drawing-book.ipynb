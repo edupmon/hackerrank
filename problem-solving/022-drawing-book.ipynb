{
 "cells": [
  {
   "cell_type": "markdown",
   "id": "c07e83f1-86cd-44e3-aeee-ee0123a3ad78",
   "metadata": {},
   "source": [
    "https://www.hackerrank.com/challenges/drawing-book"
   ]
  },
  {
   "cell_type": "code",
   "execution_count": 1,
   "id": "1e836c84-88b8-42f4-8b83-88ce23bb2495",
   "metadata": {},
   "outputs": [],
   "source": [
    "def pageCount(n, p):\n",
    "    n += 1 if n % 2 == 0 else 0 # ensure last page is odd\n",
    "    return min(p // 2, (n - p) // 2)"
   ]
  },
  {
   "cell_type": "code",
   "execution_count": 2,
   "id": "676c175a-65d0-4d60-93c1-bee0ae6123b8",
   "metadata": {},
   "outputs": [
    {
     "data": {
      "text/plain": [
       "1"
      ]
     },
     "execution_count": 2,
     "metadata": {},
     "output_type": "execute_result"
    }
   ],
   "source": [
    "pageCount(6, 2)"
   ]
  },
  {
   "cell_type": "code",
   "execution_count": 3,
   "id": "caa83155-4ee5-4f60-80ec-17a2bcdb83ca",
   "metadata": {},
   "outputs": [
    {
     "data": {
      "text/plain": [
       "0"
      ]
     },
     "execution_count": 3,
     "metadata": {},
     "output_type": "execute_result"
    }
   ],
   "source": [
    "pageCount(5, 4)"
   ]
  },
  {
   "cell_type": "code",
   "execution_count": 4,
   "id": "42a307e6-b9b1-4a00-af76-8062784a638b",
   "metadata": {},
   "outputs": [
    {
     "data": {
      "text/plain": [
       "7"
      ]
     },
     "execution_count": 4,
     "metadata": {},
     "output_type": "execute_result"
    }
   ],
   "source": [
    "pageCount(31, 16)"
   ]
  },
  {
   "cell_type": "code",
   "execution_count": 5,
   "id": "8dc89ea2-6560-405c-bcda-cf1bf9443514",
   "metadata": {},
   "outputs": [
    {
     "data": {
      "text/plain": [
       "8"
      ]
     },
     "execution_count": 5,
     "metadata": {},
     "output_type": "execute_result"
    }
   ],
   "source": [
    "pageCount(32, 16)"
   ]
  },
  {
   "cell_type": "code",
   "execution_count": 6,
   "id": "c73d3737-cc41-4a0a-bb27-8139fba870ae",
   "metadata": {},
   "outputs": [
    {
     "data": {
      "text/plain": [
       "1"
      ]
     },
     "execution_count": 6,
     "metadata": {},
     "output_type": "execute_result"
    }
   ],
   "source": [
    "pageCount(6, 5)"
   ]
  }
 ],
 "metadata": {
  "kernelspec": {
   "display_name": "Python 3 (ipykernel)",
   "language": "python",
   "name": "python3"
  },
  "language_info": {
   "codemirror_mode": {
    "name": "ipython",
    "version": 3
   },
   "file_extension": ".py",
   "mimetype": "text/x-python",
   "name": "python",
   "nbconvert_exporter": "python",
   "pygments_lexer": "ipython3",
   "version": "3.9.6"
  }
 },
 "nbformat": 4,
 "nbformat_minor": 5
}
