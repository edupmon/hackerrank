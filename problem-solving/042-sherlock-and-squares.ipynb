{
 "cells": [
  {
   "cell_type": "markdown",
   "id": "160ed7c7-cca0-49ef-a1ea-0a23a4a2f578",
   "metadata": {},
   "source": [
    "https://www.hackerrank.com/challenges/sherlock-and-squares"
   ]
  },
  {
   "cell_type": "code",
   "execution_count": 1,
   "id": "d4aefed7-fc2a-4fd9-96b0-3bcd2dac0b5b",
   "metadata": {},
   "outputs": [],
   "source": [
    "import math"
   ]
  },
  {
   "cell_type": "code",
   "execution_count": 2,
   "id": "7749d35e-6096-46a5-a467-95d774c73feb",
   "metadata": {},
   "outputs": [],
   "source": [
    "def squares(a, b):\n",
    "    x = math.ceil(math.sqrt(a))\n",
    "    y = math.ceil(math.sqrt(b))\n",
    "\n",
    "    ret_val = 0\n",
    "\n",
    "    for i in range(x, y + 1):\n",
    "        _i = i ** 2\n",
    "        if _i >= a and _i <= b:\n",
    "            ret_val += 1\n",
    "\n",
    "    return ret_val"
   ]
  },
  {
   "cell_type": "code",
   "execution_count": 3,
   "id": "68735783-9e02-47bf-8216-9cb81ba5b24b",
   "metadata": {},
   "outputs": [
    {
     "data": {
      "text/plain": [
       "3"
      ]
     },
     "execution_count": 3,
     "metadata": {},
     "output_type": "execute_result"
    }
   ],
   "source": [
    "# Expected Output: 3\n",
    "a = 24\n",
    "b = 49\n",
    "squares(a, b)"
   ]
  },
  {
   "cell_type": "code",
   "execution_count": 4,
   "id": "75f58f89-4850-4c98-8ca1-bb365ec6eaa1",
   "metadata": {},
   "outputs": [
    {
     "data": {
      "text/plain": [
       "0"
      ]
     },
     "execution_count": 4,
     "metadata": {},
     "output_type": "execute_result"
    }
   ],
   "source": [
    "# Expected Output: 0\n",
    "a = 17\n",
    "b = 24\n",
    "squares(a, b)"
   ]
  },
  {
   "cell_type": "code",
   "execution_count": 5,
   "id": "ba714cfd-cdaf-4d47-ac9d-9560d134d4f4",
   "metadata": {},
   "outputs": [
    {
     "data": {
      "text/plain": [
       "2"
      ]
     },
     "execution_count": 5,
     "metadata": {},
     "output_type": "execute_result"
    }
   ],
   "source": [
    "# Expected Output: 2\n",
    "a = 3\n",
    "b = 9\n",
    "squares(a, b)"
   ]
  },
  {
   "cell_type": "code",
   "execution_count": 6,
   "id": "3d1aef0c-7f01-4da9-a83f-733aae10db33",
   "metadata": {},
   "outputs": [
    {
     "data": {
      "text/plain": [
       "23170"
      ]
     },
     "execution_count": 6,
     "metadata": {},
     "output_type": "execute_result"
    }
   ],
   "source": [
    "# Expected Output: 23170\n",
    "a = 26441071\n",
    "b = 801576263\n",
    "squares(a, b)"
   ]
  },
  {
   "cell_type": "code",
   "execution_count": 7,
   "id": "ca392815-950f-417a-a192-aad51e585e63",
   "metadata": {},
   "outputs": [
    {
     "data": {
      "text/plain": [
       "3"
      ]
     },
     "execution_count": 7,
     "metadata": {},
     "output_type": "execute_result"
    }
   ],
   "source": [
    "# Expected Output: 3\n",
    "a = 35\n",
    "b = 70\n",
    "squares(a, b)"
   ]
  },
  {
   "cell_type": "code",
   "execution_count": 8,
   "id": "81fa48e2-152b-4a6e-8d4f-6da1e4368a9a",
   "metadata": {},
   "outputs": [
    {
     "data": {
      "text/plain": [
       "22"
      ]
     },
     "execution_count": 8,
     "metadata": {},
     "output_type": "execute_result"
    }
   ],
   "source": [
    "# Expected Output: 22\n",
    "a = 100\n",
    "b = 1000\n",
    "squares(a, b)"
   ]
  }
 ],
 "metadata": {
  "kernelspec": {
   "display_name": "Python 3 (ipykernel)",
   "language": "python",
   "name": "python3"
  },
  "language_info": {
   "codemirror_mode": {
    "name": "ipython",
    "version": 3
   },
   "file_extension": ".py",
   "mimetype": "text/x-python",
   "name": "python",
   "nbconvert_exporter": "python",
   "pygments_lexer": "ipython3",
   "version": "3.9.6"
  }
 },
 "nbformat": 4,
 "nbformat_minor": 5
}
