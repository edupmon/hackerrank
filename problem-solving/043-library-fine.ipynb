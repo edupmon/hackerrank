{
 "cells": [
  {
   "cell_type": "markdown",
   "id": "78346156-0e04-4afb-81b9-29a099cf2945",
   "metadata": {},
   "source": [
    "https://www.hackerrank.com/challenges/library-fine"
   ]
  },
  {
   "cell_type": "code",
   "execution_count": 1,
   "id": "c6ed0941-1fde-4a8f-90db-9da1701d5025",
   "metadata": {},
   "outputs": [],
   "source": [
    "def libraryFine(d1, m1, y1, d2, m2, y2):\n",
    "    if y2 > y1 or (y2 >= y1 and m2 > m1):\n",
    "        return 0\n",
    "    elif y1 - y2 > 0:\n",
    "        return 10000\n",
    "    elif m1 - m2 > 0:\n",
    "        return (m1 - m2) * 500\n",
    "    elif d1 - d2 > 0:\n",
    "        return (d1 - d2) * 15\n",
    "    else:\n",
    "        return 0"
   ]
  },
  {
   "cell_type": "code",
   "execution_count": 2,
   "id": "20ea11dd-0a17-46d1-9957-233afa101e28",
   "metadata": {},
   "outputs": [
    {
     "data": {
      "text/plain": [
       "45"
      ]
     },
     "execution_count": 2,
     "metadata": {},
     "output_type": "execute_result"
    }
   ],
   "source": [
    "# Expected Output: 45\n",
    "d1, m1, y1 = 9, 6, 2015\n",
    "d2, m2, y2 = 6, 6, 2015\n",
    "libraryFine(d1, m1, y1, d2, m2, y2)"
   ]
  },
  {
   "cell_type": "code",
   "execution_count": 3,
   "id": "038284e0-e9e2-48dc-8809-9ca54cacd5d2",
   "metadata": {},
   "outputs": [
    {
     "data": {
      "text/plain": [
       "0"
      ]
     },
     "execution_count": 3,
     "metadata": {},
     "output_type": "execute_result"
    }
   ],
   "source": [
    "# Expected Output: 0\n",
    "d1, m1, y1 = 2, 7, 1014\n",
    "d2, m2, y2 = 1, 1, 1015\n",
    "libraryFine(d1, m1, y1, d2, m2, y2)"
   ]
  },
  {
   "cell_type": "code",
   "execution_count": 4,
   "id": "25ee7840-bcb0-4de2-8242-fb8b7b94ce81",
   "metadata": {},
   "outputs": [
    {
     "data": {
      "text/plain": [
       "0"
      ]
     },
     "execution_count": 4,
     "metadata": {},
     "output_type": "execute_result"
    }
   ],
   "source": [
    "# Expected Output: 0\n",
    "d1, m1, y1 = 28, 2, 2015\n",
    "d2, m2, y2 = 15, 4, 2015\n",
    "libraryFine(d1, m1, y1, d2, m2, y2)"
   ]
  },
  {
   "cell_type": "code",
   "execution_count": 5,
   "id": "e2dfa076-1a5e-4adb-9632-37e284e0ea0a",
   "metadata": {},
   "outputs": [
    {
     "data": {
      "text/plain": [
       "0"
      ]
     },
     "execution_count": 5,
     "metadata": {},
     "output_type": "execute_result"
    }
   ],
   "source": [
    "# Expected Output: 0\n",
    "d1, m1, y1 = 15, 7, 2014\n",
    "d2, m2, y2 = 1, 7, 2015\n",
    "libraryFine(d1, m1, y1, d2, m2, y2)"
   ]
  }
 ],
 "metadata": {
  "kernelspec": {
   "display_name": "Python 3 (ipykernel)",
   "language": "python",
   "name": "python3"
  },
  "language_info": {
   "codemirror_mode": {
    "name": "ipython",
    "version": 3
   },
   "file_extension": ".py",
   "mimetype": "text/x-python",
   "name": "python",
   "nbconvert_exporter": "python",
   "pygments_lexer": "ipython3",
   "version": "3.9.6"
  }
 },
 "nbformat": 4,
 "nbformat_minor": 5
}
