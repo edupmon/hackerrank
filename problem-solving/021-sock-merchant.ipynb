{
 "cells": [
  {
   "cell_type": "markdown",
   "id": "990d608a-6989-4cdb-bb8e-f140d05d2856",
   "metadata": {},
   "source": [
    "https://www.hackerrank.com/challenges/sock-merchant"
   ]
  },
  {
   "cell_type": "code",
   "execution_count": 1,
   "id": "08ca8190-4371-4955-ae92-54461926ac87",
   "metadata": {},
   "outputs": [],
   "source": [
    "def sockMerchant(n, ar):\n",
    "    sock_count = {}\n",
    "    for i in range(n):\n",
    "        sock_count[ar[i]] = sock_count.get(ar[i], 0) + 1\n",
    "\n",
    "    ret_val = 0\n",
    "    for k, v in sock_count.items():\n",
    "        ret_val += v // 2\n",
    "\n",
    "    return ret_val"
   ]
  },
  {
   "cell_type": "code",
   "execution_count": 2,
   "id": "bfc64d08-45bb-4747-b116-d46b698f8a4a",
   "metadata": {},
   "outputs": [
    {
     "data": {
      "text/plain": [
       "2"
      ]
     },
     "execution_count": 2,
     "metadata": {},
     "output_type": "execute_result"
    }
   ],
   "source": [
    "n = 7\n",
    "ar = [1, 2, 1, 2, 1, 3, 2]\n",
    "\n",
    "sockMerchant(n, ar)"
   ]
  },
  {
   "cell_type": "code",
   "execution_count": 3,
   "id": "37a2ca8b-5b9f-4ac5-ac43-fcbf389215a1",
   "metadata": {},
   "outputs": [
    {
     "data": {
      "text/plain": [
       "3"
      ]
     },
     "execution_count": 3,
     "metadata": {},
     "output_type": "execute_result"
    }
   ],
   "source": [
    "n = 9\n",
    "ar = [10, 20, 20, 10, 10, 30, 50, 10, 20]\n",
    "\n",
    "sockMerchant(n, ar)"
   ]
  }
 ],
 "metadata": {
  "kernelspec": {
   "display_name": "Python 3 (ipykernel)",
   "language": "python",
   "name": "python3"
  },
  "language_info": {
   "codemirror_mode": {
    "name": "ipython",
    "version": 3
   },
   "file_extension": ".py",
   "mimetype": "text/x-python",
   "name": "python",
   "nbconvert_exporter": "python",
   "pygments_lexer": "ipython3",
   "version": "3.9.6"
  }
 },
 "nbformat": 4,
 "nbformat_minor": 5
}
