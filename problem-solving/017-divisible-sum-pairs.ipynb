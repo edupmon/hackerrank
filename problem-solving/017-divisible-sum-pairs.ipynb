{
 "cells": [
  {
   "cell_type": "markdown",
   "id": "dcb3bb7a-4e98-4bda-9831-4eae7e4b1ff1",
   "metadata": {},
   "source": [
    "https://www.hackerrank.com/challenges/divisible-sum-pairs"
   ]
  },
  {
   "cell_type": "code",
   "execution_count": 1,
   "id": "be5beb9c-e438-4144-b4ff-eed5aecb1c39",
   "metadata": {},
   "outputs": [],
   "source": [
    "def divisibleSumPairs(n, k, ar):\n",
    "    ret_val = 0\n",
    "    for i in range(n):\n",
    "        for j in range(i + 1, n):\n",
    "            if (ar[i] + ar[j]) % k == 0:\n",
    "                ret_val += 1\n",
    "    return ret_val"
   ]
  },
  {
   "cell_type": "code",
   "execution_count": 2,
   "id": "c4f5d0f1-c7b5-492a-abf2-146732bb35d4",
   "metadata": {},
   "outputs": [
    {
     "data": {
      "text/plain": [
       "3"
      ]
     },
     "execution_count": 2,
     "metadata": {},
     "output_type": "execute_result"
    }
   ],
   "source": [
    "# Expected Output: 3\n",
    "n = 6\n",
    "ar = [1, 2, 3, 4, 5, 6]\n",
    "k = 5\n",
    "\n",
    "divisibleSumPairs(n, k, ar)"
   ]
  },
  {
   "cell_type": "code",
   "execution_count": 3,
   "id": "418be881-4110-4e45-9b77-547326652850",
   "metadata": {},
   "outputs": [
    {
     "data": {
      "text/plain": [
       "5"
      ]
     },
     "execution_count": 3,
     "metadata": {},
     "output_type": "execute_result"
    }
   ],
   "source": [
    "# Expected Output: 5\n",
    "n = 6\n",
    "ar = [1, 3, 2, 6, 1, 2]\n",
    "k = 3\n",
    "\n",
    "divisibleSumPairs(n, k, ar)"
   ]
  },
  {
   "cell_type": "code",
   "execution_count": 4,
   "id": "1164b41b-e3bf-47b2-bac8-161f01eabf59",
   "metadata": {},
   "outputs": [
    {
     "data": {
      "text/plain": [
       "216"
      ]
     },
     "execution_count": 4,
     "metadata": {},
     "output_type": "execute_result"
    }
   ],
   "source": [
    "# Expected Output: 216\n",
    "n = 100\n",
    "ar = [43, 95, 51, 55, 40, 86, 65, 81, 51, 20, 47, 50, 65, 53, 23, 78, 75, 75,\n",
    "      47, 73, 25, 27, 14, 8, 26, 58, 95, 28, 3, 23, 48, 69, 26, 3, 73, 52, 34,\n",
    "      7, 40, 33, 56, 98, 71, 29, 70, 71, 28, 12, 18, 49, 19, 25, 2, 18, 15, 41,\n",
    "      51, 42, 46, 19, 98, 56, 54, 98, 72, 25, 16, 49, 34, 99, 48, 93, 64, 44,\n",
    "      50, 91, 44, 17, 63, 27, 3, 65, 75, 19, 68, 30, 43, 37, 72, 54, 82, 92,\n",
    "      37, 52, 72, 62, 3, 88, 82, 71]\n",
    "k = 22\n",
    "\n",
    "divisibleSumPairs(n, k, ar)"
   ]
  }
 ],
 "metadata": {
  "kernelspec": {
   "display_name": "Python 3 (ipykernel)",
   "language": "python",
   "name": "python3"
  },
  "language_info": {
   "codemirror_mode": {
    "name": "ipython",
    "version": 3
   },
   "file_extension": ".py",
   "mimetype": "text/x-python",
   "name": "python",
   "nbconvert_exporter": "python",
   "pygments_lexer": "ipython3",
   "version": "3.9.6"
  }
 },
 "nbformat": 4,
 "nbformat_minor": 5
}
