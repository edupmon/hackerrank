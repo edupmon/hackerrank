{
 "cells": [
  {
   "cell_type": "markdown",
   "id": "819b746a-54e1-420f-b4ef-5e16d5ba8bbe",
   "metadata": {},
   "source": [
    "https://www.hackerrank.com/challenges/kangaroo"
   ]
  },
  {
   "cell_type": "code",
   "execution_count": 1,
   "id": "3c569aec-2395-4a3e-b694-7264a9e39d42",
   "metadata": {},
   "outputs": [],
   "source": [
    "def kangaroo(x1, v1, x2, v2):\n",
    "    if x1 == x2: # already at the same point\n",
    "        return 'YES'\n",
    "    elif x1 > x2 and v1 >= v2: # x1 is ahead and v2 is not fast enough\n",
    "        return 'NO'\n",
    "    elif x2 > x1 and v2 >= v1: # x2 is ahead and v1 is not fast enough\n",
    "        return 'NO'\n",
    "\n",
    "    first_kang = x1 if x1 > x2 else x2 # this one is ahead\n",
    "    second_kang = x1 if x1 < x2 else x2 # this one is behind\n",
    "\n",
    "    # hop distance of the one ahead\n",
    "    first_dist = v1 if x1 == first_kang else v2\n",
    "\n",
    "    # hop distance of the one behind\n",
    "    second_dist = v2 if x2 == second_kang else v1\n",
    "\n",
    "    while first_kang > second_kang: # while the first one ahead stays ahead\n",
    "        first_kang += first_dist\n",
    "        second_kang += second_dist\n",
    "\n",
    "    if first_kang == second_kang: # if they have crossed at the same position\n",
    "        return 'YES'\n",
    "    else:\n",
    "        return 'NO'"
   ]
  },
  {
   "cell_type": "code",
   "execution_count": 2,
   "id": "69a3bab5-75aa-43dc-bb0e-3b75f46656eb",
   "metadata": {},
   "outputs": [
    {
     "data": {
      "text/plain": [
       "'YES'"
      ]
     },
     "execution_count": 2,
     "metadata": {},
     "output_type": "execute_result"
    }
   ],
   "source": [
    "kangaroo(0, 3, 4, 2)"
   ]
  },
  {
   "cell_type": "code",
   "execution_count": 3,
   "id": "ce388b6b-0086-48c8-ab8b-45ec2e2fc857",
   "metadata": {},
   "outputs": [
    {
     "data": {
      "text/plain": [
       "'NO'"
      ]
     },
     "execution_count": 3,
     "metadata": {},
     "output_type": "execute_result"
    }
   ],
   "source": [
    "kangaroo(0, 2, 5, 3)"
   ]
  },
  {
   "cell_type": "code",
   "execution_count": 4,
   "id": "84b5d335-cc66-4e44-aa69-40054cd429a7",
   "metadata": {},
   "outputs": [
    {
     "data": {
      "text/plain": [
       "'NO'"
      ]
     },
     "execution_count": 4,
     "metadata": {},
     "output_type": "execute_result"
    }
   ],
   "source": [
    "kangaroo(43, 2, 70, 2)"
   ]
  }
 ],
 "metadata": {
  "kernelspec": {
   "display_name": "Python 3 (ipykernel)",
   "language": "python",
   "name": "python3"
  },
  "language_info": {
   "codemirror_mode": {
    "name": "ipython",
    "version": 3
   },
   "file_extension": ".py",
   "mimetype": "text/x-python",
   "name": "python",
   "nbconvert_exporter": "python",
   "pygments_lexer": "ipython3",
   "version": "3.9.6"
  }
 },
 "nbformat": 4,
 "nbformat_minor": 5
}
