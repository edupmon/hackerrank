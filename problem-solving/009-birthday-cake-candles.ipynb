{
 "cells": [
  {
   "cell_type": "markdown",
   "id": "15577193-6d63-42ab-a16a-82fed32e3756",
   "metadata": {},
   "source": [
    "https://www.hackerrank.com/challenges/birthday-cake-candles"
   ]
  },
  {
   "cell_type": "code",
   "execution_count": 1,
   "id": "7a0481c5-fd82-4dc0-a66e-515d08963a95",
   "metadata": {},
   "outputs": [],
   "source": [
    "def birthdayCakeCandles(candles):\n",
    "    max_candle = max(candles)\n",
    "    return len([i for i in candles if i == max_candle])"
   ]
  },
  {
   "cell_type": "code",
   "execution_count": 2,
   "id": "12b63dcb-7a08-4326-8e17-c198f472fae4",
   "metadata": {},
   "outputs": [
    {
     "data": {
      "text/plain": [
       "2"
      ]
     },
     "execution_count": 2,
     "metadata": {},
     "output_type": "execute_result"
    }
   ],
   "source": [
    "candles = [4, 4, 1, 3]\n",
    "birthdayCakeCandles(candles)"
   ]
  }
 ],
 "metadata": {
  "kernelspec": {
   "display_name": "Python 3 (ipykernel)",
   "language": "python",
   "name": "python3"
  },
  "language_info": {
   "codemirror_mode": {
    "name": "ipython",
    "version": 3
   },
   "file_extension": ".py",
   "mimetype": "text/x-python",
   "name": "python",
   "nbconvert_exporter": "python",
   "pygments_lexer": "ipython3",
   "version": "3.9.6"
  }
 },
 "nbformat": 4,
 "nbformat_minor": 5
}
