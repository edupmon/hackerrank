{
 "cells": [
  {
   "cell_type": "markdown",
   "id": "c2695d3c-545a-4e82-9ab7-6b7426992bfb",
   "metadata": {},
   "source": [
    "https://www.hackerrank.com/challenges/revising-the-select-query"
   ]
  },
  {
   "cell_type": "code",
   "execution_count": 1,
   "id": "3833f4f4-a39a-4ae8-8826-f6cdbbc75a9e",
   "metadata": {},
   "outputs": [],
   "source": [
    "from sqlalchemy import create_engine\n",
    "import pandas as pd\n",
    "import pymysql"
   ]
  },
  {
   "cell_type": "code",
   "execution_count": 2,
   "id": "db7dfeec-042c-4d7f-bc05-8d6b82e0b3e5",
   "metadata": {},
   "outputs": [],
   "source": [
    "engine = create_engine('mysql+pymysql://root@localhost/hackerrank')"
   ]
  },
  {
   "cell_type": "code",
   "execution_count": 3,
   "id": "bdadbab9-9383-41e0-873f-391376f696d3",
   "metadata": {},
   "outputs": [
    {
     "data": {
      "text/html": [
       "<div>\n",
       "<style scoped>\n",
       "    .dataframe tbody tr th:only-of-type {\n",
       "        vertical-align: middle;\n",
       "    }\n",
       "\n",
       "    .dataframe tbody tr th {\n",
       "        vertical-align: top;\n",
       "    }\n",
       "\n",
       "    .dataframe thead th {\n",
       "        text-align: right;\n",
       "    }\n",
       "</style>\n",
       "<table border=\"1\" class=\"dataframe\">\n",
       "  <thead>\n",
       "    <tr style=\"text-align: right;\">\n",
       "      <th></th>\n",
       "      <th>id</th>\n",
       "      <th>name</th>\n",
       "      <th>countrycode</th>\n",
       "      <th>district</th>\n",
       "      <th>population</th>\n",
       "    </tr>\n",
       "  </thead>\n",
       "  <tbody>\n",
       "    <tr>\n",
       "      <th>0</th>\n",
       "      <td>3878</td>\n",
       "      <td>Scottsdale</td>\n",
       "      <td>USA</td>\n",
       "      <td>Arizona</td>\n",
       "      <td>202705</td>\n",
       "    </tr>\n",
       "    <tr>\n",
       "      <th>1</th>\n",
       "      <td>3965</td>\n",
       "      <td>Corona</td>\n",
       "      <td>USA</td>\n",
       "      <td>California</td>\n",
       "      <td>124966</td>\n",
       "    </tr>\n",
       "    <tr>\n",
       "      <th>2</th>\n",
       "      <td>3973</td>\n",
       "      <td>Concord</td>\n",
       "      <td>USA</td>\n",
       "      <td>California</td>\n",
       "      <td>121780</td>\n",
       "    </tr>\n",
       "    <tr>\n",
       "      <th>3</th>\n",
       "      <td>3977</td>\n",
       "      <td>Cedar Rapids</td>\n",
       "      <td>USA</td>\n",
       "      <td>Iowa</td>\n",
       "      <td>120758</td>\n",
       "    </tr>\n",
       "    <tr>\n",
       "      <th>4</th>\n",
       "      <td>3982</td>\n",
       "      <td>Coral Springs</td>\n",
       "      <td>USA</td>\n",
       "      <td>Florida</td>\n",
       "      <td>117549</td>\n",
       "    </tr>\n",
       "  </tbody>\n",
       "</table>\n",
       "</div>"
      ],
      "text/plain": [
       "     id           name countrycode    district  population\n",
       "0  3878     Scottsdale         USA     Arizona      202705\n",
       "1  3965         Corona         USA  California      124966\n",
       "2  3973        Concord         USA  California      121780\n",
       "3  3977   Cedar Rapids         USA        Iowa      120758\n",
       "4  3982  Coral Springs         USA     Florida      117549"
      ]
     },
     "execution_count": 3,
     "metadata": {},
     "output_type": "execute_result"
    }
   ],
   "source": [
    "pd.read_sql('''\n",
    "    SELECT *\n",
    "    FROM city\n",
    "    WHERE countrycode = 'USA'\n",
    "    AND population > 100000;\n",
    "''', engine)"
   ]
  }
 ],
 "metadata": {
  "kernelspec": {
   "display_name": "Python 3 (ipykernel)",
   "language": "python",
   "name": "python3"
  },
  "language_info": {
   "codemirror_mode": {
    "name": "ipython",
    "version": 3
   },
   "file_extension": ".py",
   "mimetype": "text/x-python",
   "name": "python",
   "nbconvert_exporter": "python",
   "pygments_lexer": "ipython3",
   "version": "3.9.6"
  }
 },
 "nbformat": 4,
 "nbformat_minor": 5
}
