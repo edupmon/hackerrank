{
 "cells": [
  {
   "cell_type": "markdown",
   "id": "3591c3f9-effc-4c8c-9555-d20d828837bd",
   "metadata": {},
   "source": [
    "https://www.hackerrank.com/challenges/diagonal-difference"
   ]
  },
  {
   "cell_type": "code",
   "execution_count": 1,
   "id": "c412c011-cd87-45e3-88a6-5a3edabc2a33",
   "metadata": {},
   "outputs": [],
   "source": [
    "def diagonalDifference(arr):\n",
    "    # left_right and right_left sums:\n",
    "    l_r, r_l = 0, 0\n",
    "    # up_count and down_count (diagonals positions):\n",
    "    u_c, d_c = 0, len(arr) - 1\n",
    "    for i in arr:\n",
    "        l_r, r_l = l_r + i[u_c], r_l + i[d_c] # Update the diagonals\n",
    "        u_c, d_c = u_c + 1, d_c - 1 # Update the diagonals positions\n",
    "    return abs(l_r - r_l)"
   ]
  },
  {
   "cell_type": "code",
   "execution_count": 2,
   "id": "1e9cb85a-b8b9-4c83-80a9-610e8c703ded",
   "metadata": {},
   "outputs": [
    {
     "data": {
      "text/plain": [
       "15"
      ]
     },
     "execution_count": 2,
     "metadata": {},
     "output_type": "execute_result"
    }
   ],
   "source": [
    "diagonalDifference([[11, 2, 4], [4, 5, 6], [10, 8, -12]])"
   ]
  }
 ],
 "metadata": {
  "kernelspec": {
   "display_name": "Python 3 (ipykernel)",
   "language": "python",
   "name": "python3"
  },
  "language_info": {
   "codemirror_mode": {
    "name": "ipython",
    "version": 3
   },
   "file_extension": ".py",
   "mimetype": "text/x-python",
   "name": "python",
   "nbconvert_exporter": "python",
   "pygments_lexer": "ipython3",
   "version": "3.9.6"
  }
 },
 "nbformat": 4,
 "nbformat_minor": 5
}
