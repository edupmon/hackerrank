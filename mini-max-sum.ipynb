{
 "cells": [
  {
   "cell_type": "markdown",
   "id": "957aa3e0-3997-40d0-9b23-f6590b6e8e1d",
   "metadata": {},
   "source": [
    "https://www.hackerrank.com/challenges/mini-max-sum"
   ]
  },
  {
   "cell_type": "code",
   "execution_count": 1,
   "id": "5886839a-19c3-434f-8b3f-dbf5528ecc19",
   "metadata": {},
   "outputs": [],
   "source": [
    "def miniMaxSum(arr):\n",
    "    sorted_arr = sorted(arr)\n",
    "    min_sum = sum(sorted_arr[:-1])\n",
    "    max_sum = sum((sorted_arr[1:]))\n",
    "    print(min_sum, max_sum)"
   ]
  },
  {
   "cell_type": "code",
   "execution_count": 2,
   "id": "fa5d2364-6478-487e-873e-e6cee738f0a4",
   "metadata": {},
   "outputs": [
    {
     "name": "stdout",
     "output_type": "stream",
     "text": [
      "16 24\n"
     ]
    }
   ],
   "source": [
    "miniMaxSum([1, 3, 5, 7, 9])"
   ]
  },
  {
   "cell_type": "code",
   "execution_count": 3,
   "id": "b876b209-733d-4a86-af06-77a860ab2477",
   "metadata": {},
   "outputs": [
    {
     "name": "stdout",
     "output_type": "stream",
     "text": [
      "10 14\n"
     ]
    }
   ],
   "source": [
    "miniMaxSum([1, 2, 3, 4, 5])"
   ]
  },
  {
   "cell_type": "code",
   "execution_count": 4,
   "id": "e8e8da5a-ce92-40b7-89d9-eee35039e179",
   "metadata": {},
   "outputs": [
    {
     "name": "stdout",
     "output_type": "stream",
     "text": [
      "299 9271\n"
     ]
    }
   ],
   "source": [
    "miniMaxSum([7, 69, 2, 221, 8974])"
   ]
  }
 ],
 "metadata": {
  "kernelspec": {
   "display_name": "Python 3 (ipykernel)",
   "language": "python",
   "name": "python3"
  },
  "language_info": {
   "codemirror_mode": {
    "name": "ipython",
    "version": 3
   },
   "file_extension": ".py",
   "mimetype": "text/x-python",
   "name": "python",
   "nbconvert_exporter": "python",
   "pygments_lexer": "ipython3",
   "version": "3.9.6"
  }
 },
 "nbformat": 4,
 "nbformat_minor": 5
}
